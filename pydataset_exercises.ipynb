{
 "cells": [
  {
   "cell_type": "markdown",
   "id": "0f57bd2d",
   "metadata": {},
   "source": [
    "# pydataset_exercises"
   ]
  },
  {
   "cell_type": "markdown",
   "id": "e63835f6",
   "metadata": {},
   "source": [
    "1. Copy the code from the lesson to create a dataframe full of student grades."
   ]
  },
  {
   "cell_type": "code",
   "execution_count": 2,
   "id": "66f1b64b",
   "metadata": {},
   "outputs": [],
   "source": [
    "#1a. Create a column named passing_english that indicates whether each student has a passing grade in english."
   ]
  },
  {
   "cell_type": "code",
   "execution_count": 3,
   "id": "d314bab5",
   "metadata": {},
   "outputs": [],
   "source": [
    "#1b. Sort the english grades by the passing_english column. How are duplicates handled?"
   ]
  },
  {
   "cell_type": "code",
   "execution_count": 4,
   "id": "74f4b8a3",
   "metadata": {},
   "outputs": [],
   "source": [
    "#1c. Sort the english grades first by passing_english and then by student name. All the students that are failing english should be first, and within the students that are failing english they should be ordered alphabetically. The same should be true for the students passing english. (Hint: you can pass a list to the .sort_values method)"
   ]
  },
  {
   "cell_type": "code",
   "execution_count": 5,
   "id": "b9689721",
   "metadata": {},
   "outputs": [],
   "source": [
    "#1d. Sort the english grades first by passing_english, and then by the actual english grade, similar to how we did in the last step."
   ]
  },
  {
   "cell_type": "code",
   "execution_count": 6,
   "id": "da06e946",
   "metadata": {},
   "outputs": [],
   "source": [
    "#1e. Calculate each students overall grade and add it as a column on the dataframe. The overall grade is the average of the math, english, and reading grades."
   ]
  },
  {
   "cell_type": "markdown",
   "id": "b4c1e7ee",
   "metadata": {},
   "source": [
    "2. Load the mpg dataset. Read the documentation for the dataset and use it for the following questions:"
   ]
  },
  {
   "cell_type": "code",
   "execution_count": 10,
   "id": "376899bb",
   "metadata": {},
   "outputs": [],
   "source": [
    "#- How many rows and columns are there?\n",
    "\n",
    "#- What are the data types of each column?\n",
    "\n",
    "#- Summarize the dataframe with .info and .describe\n",
    "\n",
    "#- Rename the cty column to city.\n",
    "\n",
    "#- Rename the hwy column to highway.\n",
    "\n",
    "#- Do any cars have better city mileage than highway mileage?\n",
    "\n",
    "#- Create a column named mileage_difference this column should contain the difference between highway and city mileage for each car.\n",
    "\n",
    "#- Which car (or cars) has the highest mileage difference?\n",
    "\n",
    "#- Which compact class car has the lowest highway mileage? The best?\n",
    "\n",
    "#- Create a column named average_mileage that is the mean of the city and highway mileage.\n",
    "\n",
    "#- Which dodge car has the best average mileage? The worst?"
   ]
  },
  {
   "cell_type": "markdown",
   "id": "c0dee5a0",
   "metadata": {},
   "source": [
    "3. Load the Mammals dataset. Read the documentation for it, and use the data to answer these questions:"
   ]
  },
  {
   "cell_type": "code",
   "execution_count": 12,
   "id": "46337f2a",
   "metadata": {},
   "outputs": [],
   "source": [
    "#- How many rows and columns are there?\n",
    "\n",
    "#- What are the data types?\n",
    "\n",
    "#- Summarize the dataframe with .info and .describe\n",
    "\n",
    "#- What is the the weight of the fastest animal?\n",
    "\n",
    "#- What is the overal percentage of specials?\n",
    "\n",
    "#- How many animals are hoppers that are above the median speed? What percentage is this?"
   ]
  },
  {
   "cell_type": "code",
   "execution_count": null,
   "id": "440b1919",
   "metadata": {},
   "outputs": [],
   "source": []
  }
 ],
 "metadata": {
  "kernelspec": {
   "display_name": "Python 3",
   "language": "python",
   "name": "python3"
  },
  "language_info": {
   "codemirror_mode": {
    "name": "ipython",
    "version": 3
   },
   "file_extension": ".py",
   "mimetype": "text/x-python",
   "name": "python",
   "nbconvert_exporter": "python",
   "pygments_lexer": "ipython3",
   "version": "3.8.8"
  }
 },
 "nbformat": 4,
 "nbformat_minor": 5
}
