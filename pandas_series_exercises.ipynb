{
 "cells": [
  {
   "cell_type": "markdown",
   "id": "ed2607d4",
   "metadata": {},
   "source": [
    "# Exercises Part I"
   ]
  },
  {
   "cell_type": "code",
   "execution_count": 1,
   "id": "d24bdf9b",
   "metadata": {},
   "outputs": [],
   "source": [
    "import numpy as np\n",
    "import pandas as pd\n",
    "import matplotlib as plt"
   ]
  },
  {
   "cell_type": "code",
   "execution_count": 2,
   "id": "f2a7944e",
   "metadata": {},
   "outputs": [
    {
     "data": {
      "text/plain": [
       "0                 kiwi\n",
       "1                mango\n",
       "2           strawberry\n",
       "3            pineapple\n",
       "4           gala apple\n",
       "5     honeycrisp apple\n",
       "6               tomato\n",
       "7           watermelon\n",
       "8             honeydew\n",
       "9                 kiwi\n",
       "10                kiwi\n",
       "11                kiwi\n",
       "12               mango\n",
       "13           blueberry\n",
       "14          blackberry\n",
       "15          gooseberry\n",
       "16              papaya\n",
       "dtype: object"
      ]
     },
     "execution_count": 2,
     "metadata": {},
     "output_type": "execute_result"
    }
   ],
   "source": [
    "fruits = pd.Series([\"kiwi\", \"mango\", \"strawberry\", \"pineapple\", \"gala apple\", \"honeycrisp apple\", \"tomato\", \"watermelon\", \"honeydew\", \"kiwi\", \"kiwi\", \"kiwi\", \"mango\", \"blueberry\", \"blackberry\", \"gooseberry\", \"papaya\"])\n",
    "fruits"
   ]
  },
  {
   "cell_type": "markdown",
   "id": "b5e42174",
   "metadata": {},
   "source": [
    "# Exercises Part II"
   ]
  },
  {
   "cell_type": "markdown",
   "id": "3b7bdcf7",
   "metadata": {},
   "source": [
    "1. Capitalize all the string values in fruits."
   ]
  },
  {
   "cell_type": "code",
   "execution_count": 3,
   "id": "845d2705",
   "metadata": {
    "scrolled": true
   },
   "outputs": [
    {
     "data": {
      "text/plain": [
       "0                 Kiwi\n",
       "1                Mango\n",
       "2           Strawberry\n",
       "3            Pineapple\n",
       "4           Gala apple\n",
       "5     Honeycrisp apple\n",
       "6               Tomato\n",
       "7           Watermelon\n",
       "8             Honeydew\n",
       "9                 Kiwi\n",
       "10                Kiwi\n",
       "11                Kiwi\n",
       "12               Mango\n",
       "13           Blueberry\n",
       "14          Blackberry\n",
       "15          Gooseberry\n",
       "16              Papaya\n",
       "dtype: object"
      ]
     },
     "execution_count": 3,
     "metadata": {},
     "output_type": "execute_result"
    }
   ],
   "source": [
    "fruits.str.capitalize()"
   ]
  },
  {
   "cell_type": "markdown",
   "id": "30b5ec5c",
   "metadata": {},
   "source": [
    "2. Count the letter \"a\" in all the string values (use string vectorization)."
   ]
  },
  {
   "cell_type": "code",
   "execution_count": 4,
   "id": "21bdaed6",
   "metadata": {
    "scrolled": true
   },
   "outputs": [
    {
     "data": {
      "text/plain": [
       "0         kiwi\n",
       "1        mango\n",
       "1        mango\n",
       "1        mango\n",
       "3    pineapple\n",
       "1        mango\n",
       "1        mango\n",
       "1        mango\n",
       "0         kiwi\n",
       "0         kiwi\n",
       "0         kiwi\n",
       "0         kiwi\n",
       "1        mango\n",
       "0         kiwi\n",
       "1        mango\n",
       "0         kiwi\n",
       "3    pineapple\n",
       "dtype: object"
      ]
     },
     "execution_count": 4,
     "metadata": {},
     "output_type": "execute_result"
    }
   ],
   "source": [
    "fruits[fruits.str.count('a')]"
   ]
  },
  {
   "cell_type": "markdown",
   "id": "f59e94d3",
   "metadata": {},
   "source": [
    "3. Output the number of vowels in each and every string value."
   ]
  },
  {
   "cell_type": "code",
   "execution_count": 5,
   "id": "f935c48b",
   "metadata": {
    "scrolled": true
   },
   "outputs": [],
   "source": [
    "\n",
    "# def count_vowels(string):\n",
    "#     char for char in string if char in vowels\n",
    "\n",
    "# fruits.count['a, e, i, o, u']"
   ]
  },
  {
   "cell_type": "markdown",
   "id": "0cbfaa3c",
   "metadata": {},
   "source": [
    "4. Write the code to get the longest string value from fruits."
   ]
  },
  {
   "cell_type": "code",
   "execution_count": 6,
   "id": "4bbf651d",
   "metadata": {},
   "outputs": [
    {
     "data": {
      "text/plain": [
       "'honeycrisp apple'"
      ]
     },
     "execution_count": 6,
     "metadata": {},
     "output_type": "execute_result"
    }
   ],
   "source": [
    "fruits[fruits.str.len().idxmax()]"
   ]
  },
  {
   "cell_type": "markdown",
   "id": "aa33235e",
   "metadata": {},
   "source": [
    "5. Write the code to get the string values with 5 or more letters in the name."
   ]
  },
  {
   "cell_type": "code",
   "execution_count": 7,
   "id": "563282d3",
   "metadata": {},
   "outputs": [
    {
     "data": {
      "text/plain": [
       "2           strawberry\n",
       "3            pineapple\n",
       "4           gala apple\n",
       "5     honeycrisp apple\n",
       "6               tomato\n",
       "7           watermelon\n",
       "8             honeydew\n",
       "13           blueberry\n",
       "14          blackberry\n",
       "15          gooseberry\n",
       "16              papaya\n",
       "dtype: object"
      ]
     },
     "execution_count": 7,
     "metadata": {},
     "output_type": "execute_result"
    }
   ],
   "source": [
    "fruits[fruits.str.len() > 5]"
   ]
  },
  {
   "cell_type": "markdown",
   "id": "cccaaff3",
   "metadata": {},
   "source": [
    "6. Use the .apply method with a lambda function to find the fruit(s) containing the letter \"o\" two or more times."
   ]
  },
  {
   "cell_type": "code",
   "execution_count": 8,
   "id": "7a45c71f",
   "metadata": {
    "scrolled": true
   },
   "outputs": [
    {
     "data": {
      "text/plain": [
       "6         tomato\n",
       "15    gooseberry\n",
       "dtype: object"
      ]
     },
     "execution_count": 8,
     "metadata": {},
     "output_type": "execute_result"
    }
   ],
   "source": [
    "fruits[fruits.apply(lambda fruit: fruit.count('o') > 1)]"
   ]
  },
  {
   "cell_type": "code",
   "execution_count": 9,
   "id": "bfdb36b2",
   "metadata": {},
   "outputs": [],
   "source": [
    "# fruits.str."
   ]
  },
  {
   "cell_type": "markdown",
   "id": "d908146c",
   "metadata": {},
   "source": [
    "7. Write the code to get only the string values containing the substring \"berry\"."
   ]
  },
  {
   "cell_type": "code",
   "execution_count": 10,
   "id": "dddb5eaa",
   "metadata": {},
   "outputs": [
    {
     "data": {
      "text/plain": [
       "2     strawberry\n",
       "13     blueberry\n",
       "14    blackberry\n",
       "15    gooseberry\n",
       "dtype: object"
      ]
     },
     "execution_count": 10,
     "metadata": {},
     "output_type": "execute_result"
    }
   ],
   "source": [
    "fruits[fruits.str.contains('berry')]"
   ]
  },
  {
   "cell_type": "code",
   "execution_count": 11,
   "id": "d2968ca9",
   "metadata": {},
   "outputs": [
    {
     "data": {
      "text/plain": [
       "2     strawberry\n",
       "13     blueberry\n",
       "14    blackberry\n",
       "15    gooseberry\n",
       "dtype: object"
      ]
     },
     "execution_count": 11,
     "metadata": {},
     "output_type": "execute_result"
    }
   ],
   "source": [
    "fruits[fruits.apply(lambda fruit: 'berry' in fruit)]"
   ]
  },
  {
   "cell_type": "markdown",
   "id": "aef8052d",
   "metadata": {},
   "source": [
    "8. Write the code to get only the string values containing the substring \"apple\"."
   ]
  },
  {
   "cell_type": "code",
   "execution_count": 12,
   "id": "1b0279ec",
   "metadata": {
    "scrolled": true
   },
   "outputs": [
    {
     "data": {
      "text/plain": [
       "3           pineapple\n",
       "4          gala apple\n",
       "5    honeycrisp apple\n",
       "dtype: object"
      ]
     },
     "execution_count": 12,
     "metadata": {},
     "output_type": "execute_result"
    }
   ],
   "source": [
    "fruits[fruits.str.contains('apple')]"
   ]
  },
  {
   "cell_type": "markdown",
   "id": "bfea0365",
   "metadata": {},
   "source": [
    "9. Which string value contains the most vowels?"
   ]
  },
  {
   "cell_type": "code",
   "execution_count": 13,
   "id": "fb15e40a",
   "metadata": {},
   "outputs": [],
   "source": [
    "# fruits.apply(#function from count_vowels"
   ]
  },
  {
   "cell_type": "markdown",
   "id": "dcff6180",
   "metadata": {},
   "source": [
    "# Exercises Part III"
   ]
  },
  {
   "cell_type": "markdown",
   "id": "e0c33812",
   "metadata": {},
   "source": [
    "Use pandas to create a Series named letters from the following string:\n",
    "'hnvidduckkqxwymbimkccexbkmqygkxoyndmcxnwqarhyffsjpsrabtjzsypmzadfavyrnndndvswreauxovncxtwzpwejilzjrmmbbgbyxvjtewqthafnbkqplarokkyydtubbmnexoypulzwfhqvckdpqtpoppzqrmcvhhpwgjwupgzhiofohawytlsiyecuproguy'"
   ]
  },
  {
   "cell_type": "markdown",
   "id": "379083a8",
   "metadata": {},
   "source": [
    "# Letters"
   ]
  },
  {
   "cell_type": "code",
   "execution_count": 14,
   "id": "0dee0463",
   "metadata": {},
   "outputs": [],
   "source": [
    "letters = pd.Series(list(\"hnvidduckkqxwymbimkccexbkmqygkxoyndmcxnwqarhyffsjpsrabtjzsypmzadfavyrnndndvswreauxovncxtwzpwejilzjrmmbbgbyxvjtewqthafnbkqplarokkyydtubbmnexoypulzwfhqvckdpqtpoppzqrmcvhhpwgjwupgzhiofohawytlsiyecuproguy\"))"
   ]
  },
  {
   "cell_type": "markdown",
   "id": "5bf79ccb",
   "metadata": {},
   "source": [
    "1. Which letter occurs the most frequently in the letters Series?"
   ]
  },
  {
   "cell_type": "code",
   "execution_count": 15,
   "id": "a7b2c6cc",
   "metadata": {},
   "outputs": [
    {
     "name": "stdout",
     "output_type": "stream",
     "text": [
      "y    13\n",
      "dtype: int64\n"
     ]
    }
   ],
   "source": [
    "print(letters.value_counts().head(1))\n",
    "# print(letters.value_counts())\n"
   ]
  },
  {
   "cell_type": "markdown",
   "id": "efe459cd",
   "metadata": {},
   "source": [
    "2. Which letter occurs the Least frequently?"
   ]
  },
  {
   "cell_type": "code",
   "execution_count": 16,
   "id": "7d36bd80",
   "metadata": {},
   "outputs": [
    {
     "name": "stdout",
     "output_type": "stream",
     "text": [
      "l    4\n",
      "dtype: int64\n"
     ]
    }
   ],
   "source": [
    "print(letters.value_counts().tail(1))\n",
    "# print(letters.value_counts())"
   ]
  },
  {
   "cell_type": "markdown",
   "id": "45eaf031",
   "metadata": {},
   "source": [
    "3. How many vowels are in the Series?"
   ]
  },
  {
   "cell_type": "code",
   "execution_count": 17,
   "id": "2c332515",
   "metadata": {
    "scrolled": true
   },
   "outputs": [
    {
     "name": "stdout",
     "output_type": "stream",
     "text": [
      "34\n",
      "\n",
      "3      i\n",
      "6      u\n",
      "16     i\n",
      "21     e\n",
      "31     o\n",
      "41     a\n",
      "52     a\n",
      "62     a\n",
      "65     a\n",
      "78     e\n",
      "79     a\n",
      "80     u\n",
      "82     o\n",
      "92     e\n",
      "94     i\n",
      "110    e\n",
      "115    a\n",
      "123    a\n",
      "125    o\n",
      "132    u\n",
      "137    e\n",
      "139    o\n",
      "142    u\n",
      "157    o\n",
      "173    u\n",
      "178    i\n",
      "179    o\n",
      "181    o\n",
      "183    a\n",
      "189    i\n",
      "191    e\n",
      "193    u\n",
      "196    o\n",
      "198    u\n",
      "dtype: object\n"
     ]
    }
   ],
   "source": [
    "vowels = list('aeiou')\n",
    "\n",
    "print(letters[letters.isin(vowels)].count())\n",
    "print()\n",
    "print(letters[letters.isin(vowels)])"
   ]
  },
  {
   "cell_type": "markdown",
   "id": "337ed666",
   "metadata": {},
   "source": [
    "4. How many consonants are in the Series?"
   ]
  },
  {
   "cell_type": "code",
   "execution_count": 18,
   "id": "350b417c",
   "metadata": {},
   "outputs": [
    {
     "name": "stdout",
     "output_type": "stream",
     "text": [
      "166\n",
      "\n",
      "0      h\n",
      "1      n\n",
      "2      v\n",
      "4      d\n",
      "5      d\n",
      "      ..\n",
      "192    c\n",
      "194    p\n",
      "195    r\n",
      "197    g\n",
      "199    y\n",
      "Length: 166, dtype: object\n"
     ]
    }
   ],
   "source": [
    "conso = list('bcdfghjklmnpqrstvwxyz')\n",
    "\n",
    "print(letters[letters.isin(conso)].count())\n",
    "print()\n",
    "print(letters[letters.isin(conso)])"
   ]
  },
  {
   "cell_type": "markdown",
   "id": "7532d1b9",
   "metadata": {},
   "source": [
    "<font color='#c48f7f'> 5. Create a Series that has all of the same letters but uppercased. text</font>"
   ]
  },
  {
   "cell_type": "code",
   "execution_count": 19,
   "id": "9a60e514",
   "metadata": {},
   "outputs": [
    {
     "data": {
      "text/plain": [
       "0      H\n",
       "1      N\n",
       "2      V\n",
       "3      I\n",
       "4      D\n",
       "      ..\n",
       "195    R\n",
       "196    O\n",
       "197    G\n",
       "198    U\n",
       "199    Y\n",
       "Length: 200, dtype: object"
      ]
     },
     "execution_count": 19,
     "metadata": {},
     "output_type": "execute_result"
    }
   ],
   "source": [
    "letter_up_str = letters.apply(str).str.upper()\n",
    "letter_up_str"
   ]
  },
  {
   "cell_type": "markdown",
   "id": "e2181707",
   "metadata": {},
   "source": [
    "6. Create a bar plot of the frequencies of the 6 most commonly occuring letters."
   ]
  },
  {
   "cell_type": "code",
   "execution_count": 20,
   "id": "af1abd24",
   "metadata": {
    "scrolled": true
   },
   "outputs": [
    {
     "data": {
      "text/plain": [
       "<AxesSubplot:title={'center':'6 Most Commonly Occuring Letters'}>"
      ]
     },
     "execution_count": 20,
     "metadata": {},
     "output_type": "execute_result"
    },
    {
     "data": {
      "image/png": "[encoded data removed]",
      "text/plain": [
       "<Figure size 432x288 with 1 Axes>"
      ]
     },
     "metadata": {
      "needs_background": "light"
     },
     "output_type": "display_data"
    }
   ],
   "source": [
    "letters.value_counts().head(6).plot.bar(color='#c48f7f', title='6 Most Commonly Occuring Letters')"
   ]
  },
  {
   "cell_type": "markdown",
   "id": "86a6e57a",
   "metadata": {},
   "source": [
    "# Numbers"
   ]
  },
  {
   "cell_type": "code",
   "execution_count": 21,
   "id": "966d2027",
   "metadata": {},
   "outputs": [],
   "source": [
    "numbers = pd.Series(['$796,459.41', '$278.60', '$482,571.67', '$4,503,915.98', '$2,121,418.3', '$1,260,813.3', '$87,231.01', '$1,509,175.45', '$4,138,548.00', '$2,848,913.80', '$594,715.39', '$4,789,988.17', '$4,513,644.5', '$3,191,059.97', '$1,758,712.24', '$4,338,283.54', '$4,738,303.38', '$2,791,759.67', '$769,681.94', '$452,650.23'])"
   ]
  },
  {
   "cell_type": "markdown",
   "id": "c91cc84e",
   "metadata": {},
   "source": [
    "1. What is the data type of the numbers Series?"
   ]
  },
  {
   "cell_type": "code",
   "execution_count": 22,
   "id": "ca23593b",
   "metadata": {},
   "outputs": [
    {
     "data": {
      "text/plain": [
       "pandas.core.series.Series"
      ]
     },
     "execution_count": 22,
     "metadata": {},
     "output_type": "execute_result"
    }
   ],
   "source": [
    "type(numbers)"
   ]
  },
  {
   "cell_type": "markdown",
   "id": "695f17da",
   "metadata": {},
   "source": [
    "2. How many elements are in the number Series?"
   ]
  },
  {
   "cell_type": "code",
   "execution_count": 25,
   "id": "afb9b8af",
   "metadata": {
    "scrolled": true
   },
   "outputs": [
    {
     "data": {
      "text/plain": [
       "20"
      ]
     },
     "execution_count": 25,
     "metadata": {},
     "output_type": "execute_result"
    }
   ],
   "source": [
    "numbers.count()"
   ]
  },
  {
   "cell_type": "markdown",
   "id": "b0b83668",
   "metadata": {},
   "source": [
    "<font color='#c48f7f'>3. Perform the necessary manipulations by accessing Series attributes and methods to convert the numbers Series to a numeric data type.</font>"
   ]
  },
  {
   "cell_type": "code",
   "execution_count": 39,
   "id": "34ee2da5",
   "metadata": {
    "scrolled": true
   },
   "outputs": [
    {
     "data": {
      "text/plain": [
       "0       $796,459.41\n",
       "1           $278.60\n",
       "2       $482,571.67\n",
       "3     $4,503,915.98\n",
       "4      $2,121,418.3\n",
       "5      $1,260,813.3\n",
       "6        $87,231.01\n",
       "7     $1,509,175.45\n",
       "8     $4,138,548.00\n",
       "9     $2,848,913.80\n",
       "10      $594,715.39\n",
       "11    $4,789,988.17\n",
       "12     $4,513,644.5\n",
       "13    $3,191,059.97\n",
       "14    $1,758,712.24\n",
       "15    $4,338,283.54\n",
       "16    $4,738,303.38\n",
       "17    $2,791,759.67\n",
       "18      $769,681.94\n",
       "19      $452,650.23\n",
       "dtype: object"
      ]
     },
     "execution_count": 39,
     "metadata": {},
     "output_type": "execute_result"
    }
   ],
   "source": [
    "numbers.astype('int')\n",
    "numbers"
   ]
  },
  {
   "cell_type": "markdown",
   "id": "8adfb234",
   "metadata": {},
   "source": [
    "<font color='#c48f7f'> 4. Run the code to discover the maximum value from the Series. </font>"
   ]
  },
  {
   "cell_type": "code",
   "execution_count": 38,
   "id": "aef09e3f",
   "metadata": {
    "scrolled": true
   },
   "outputs": [
    {
     "data": {
      "text/plain": [
       "array(['$796,459.41', '$278.60', '$482,571.67', '$4,503,915.98',\n",
       "       '$2,121,418.3', '$1,260,813.3', '$87,231.01', '$1,509,175.45',\n",
       "       '$4,138,548.00', '$2,848,913.80', '$594,715.39', '$4,789,988.17',\n",
       "       '$4,513,644.5', '$3,191,059.97', '$1,758,712.24', '$4,338,283.54',\n",
       "       '$4,738,303.38', '$2,791,759.67', '$769,681.94', '$452,650.23'],\n",
       "      dtype=object)"
      ]
     },
     "execution_count": 38,
     "metadata": {},
     "output_type": "execute_result"
    }
   ],
   "source": [
    "# numbers.max()\n",
    "numbers.values"
   ]
  },
  {
   "cell_type": "markdown",
   "id": "912fe57a",
   "metadata": {},
   "source": [
    "<font color = '#c48f7f'> 5. Run the code to discover the minimum value from the Series. </font>"
   ]
  },
  {
   "cell_type": "code",
   "execution_count": 124,
   "id": "c4ce8271",
   "metadata": {
    "scrolled": true
   },
   "outputs": [
    {
     "name": "stderr",
     "output_type": "stream",
     "text": [
      "<ipython-input-124-806ee2d05205>:1: FutureWarning: The default value of regex will change from True to False in a future version. In addition, single character regular expressions will*not* be treated as literal strings when regex=True.\n",
      "  no_dol_comma = numbers.str.replace('$', '').str.replace(',', '').astype('float').min()\n"
     ]
    },
    {
     "data": {
      "text/plain": [
       "278.6"
      ]
     },
     "execution_count": 124,
     "metadata": {},
     "output_type": "execute_result"
    }
   ],
   "source": [
    "no_dol_comma = numbers.str.replace('$', '').str.replace(',', '').astype('float').min()\n",
    "no_dol_comma"
   ]
  },
  {
   "cell_type": "markdown",
   "id": "31867db6",
   "metadata": {},
   "source": [
    "<font color = '#c48f7f'>6. What is the range of the values in the Series?</font>"
   ]
  },
  {
   "cell_type": "code",
   "execution_count": 52,
   "id": "d2fc7d60",
   "metadata": {},
   "outputs": [
    {
     "data": {
      "text/plain": [
       "count                20\n",
       "unique               20\n",
       "top       $4,503,915.98\n",
       "freq                  1\n",
       "dtype: object"
      ]
     },
     "execution_count": 52,
     "metadata": {},
     "output_type": "execute_result"
    }
   ],
   "source": [
    "numbers.describe()"
   ]
  },
  {
   "cell_type": "markdown",
   "id": "7b8e01d5",
   "metadata": {},
   "source": [
    "<font color = '#c48f7f'> 7. Bin the data into 4 equally sized intervals or bins and output how many values fall into each bin. </font>"
   ]
  },
  {
   "cell_type": "code",
   "execution_count": 57,
   "id": "acc8e1e5",
   "metadata": {
    "scrolled": true
   },
   "outputs": [
    {
     "data": {
      "text/plain": [
       "0       $796,459.41\n",
       "1           $278.60\n",
       "2       $482,571.67\n",
       "3     $4,503,915.98\n",
       "4      $2,121,418.3\n",
       "5      $1,260,813.3\n",
       "6        $87,231.01\n",
       "7     $1,509,175.45\n",
       "8     $4,138,548.00\n",
       "9     $2,848,913.80\n",
       "10      $594,715.39\n",
       "11    $4,789,988.17\n",
       "12     $4,513,644.5\n",
       "13    $3,191,059.97\n",
       "14    $1,758,712.24\n",
       "15    $4,338,283.54\n",
       "16    $4,738,303.38\n",
       "17    $2,791,759.67\n",
       "18      $769,681.94\n",
       "19      $452,650.23\n",
       "dtype: object"
      ]
     },
     "execution_count": 57,
     "metadata": {},
     "output_type": "execute_result"
    }
   ],
   "source": [
    "# numbers.value_counts(bins=5)\n",
    "numbers"
   ]
  },
  {
   "cell_type": "markdown",
   "id": "6368fefb",
   "metadata": {},
   "source": [
    "<font color = '#c48f7f'> 8. Plot the binned data in a meaningful way. Be sure to include a title and axis labels. </font>"
   ]
  },
  {
   "cell_type": "code",
   "execution_count": 61,
   "id": "4b190788",
   "metadata": {},
   "outputs": [
    {
     "data": {
      "text/plain": [
       "$4,503,915.98    1\n",
       "$482,571.67      1\n",
       "$1,509,175.45    1\n",
       "$594,715.39      1\n",
       "$87,231.01       1\n",
       "$4,789,988.17    1\n",
       "$278.60          1\n",
       "$1,260,813.3     1\n",
       "$4,738,303.38    1\n",
       "$796,459.41      1\n",
       "$2,848,913.80    1\n",
       "$452,650.23      1\n",
       "$3,191,059.97    1\n",
       "$1,758,712.24    1\n",
       "$2,121,418.3     1\n",
       "$4,138,548.00    1\n",
       "$4,513,644.5     1\n",
       "$4,338,283.54    1\n",
       "$769,681.94      1\n",
       "$2,791,759.67    1\n",
       "dtype: int64"
      ]
     },
     "execution_count": 61,
     "metadata": {},
     "output_type": "execute_result"
    }
   ],
   "source": [
    "# numbers.value_counts(bins=5).plot.hist()\n",
    "numbers.value_counts()"
   ]
  },
  {
   "cell_type": "markdown",
   "id": "d7fd6000",
   "metadata": {},
   "source": [
    "# Exam Scores"
   ]
  },
  {
   "cell_type": "code",
   "execution_count": 63,
   "id": "476c22c9",
   "metadata": {},
   "outputs": [],
   "source": [
    "exam_scores = pd.Series([60, 86, 75, 62, 93, 71, 60, 83, 95, 78, 65, 72, 69, 81, 96, 80, 85, 92, 82, 78])"
   ]
  },
  {
   "cell_type": "markdown",
   "id": "8d81bb0e",
   "metadata": {},
   "source": [
    "1. How many elements are in the exam_scores Series?"
   ]
  },
  {
   "cell_type": "code",
   "execution_count": 127,
   "id": "52e51f76",
   "metadata": {},
   "outputs": [
    {
     "data": {
      "text/plain": [
       "20"
      ]
     },
     "execution_count": 127,
     "metadata": {},
     "output_type": "execute_result"
    }
   ],
   "source": [
    "exam_scores.count()\n",
    "exam_scores.size\n",
    "len(exam_scores)"
   ]
  },
  {
   "cell_type": "markdown",
   "id": "471df056",
   "metadata": {},
   "source": [
    "2. Run the code to discover the minimum, the maximum, the mean, and the median scores for the exam_scores Series."
   ]
  },
  {
   "cell_type": "code",
   "execution_count": 129,
   "id": "d4e468d5",
   "metadata": {},
   "outputs": [
    {
     "name": "stdout",
     "output_type": "stream",
     "text": [
      "Min: 60\n",
      "Max: 96\n",
      "Median: 79.0\n",
      "\n",
      "count    20.000000\n",
      "mean     78.150000\n",
      "std      11.352139\n",
      "min      60.000000\n",
      "25%      70.500000\n",
      "50%      79.000000\n",
      "75%      85.250000\n",
      "max      96.000000\n",
      "dtype: float64\n"
     ]
    }
   ],
   "source": [
    "print(f'Min: {exam_scores.min()}')\n",
    "print(f'Max: {exam_scores.max()}')\n",
    "print(f'Median: {exam_scores.median()}')\n",
    "print()\n",
    "#alt method\n",
    "print(exam_scores.describe())"
   ]
  },
  {
   "cell_type": "markdown",
   "id": "2098f171",
   "metadata": {},
   "source": [
    "3. Plot the Series in a meaningful way and make sure your chart has a title and axis labels."
   ]
  },
  {
   "cell_type": "code",
   "execution_count": 138,
   "id": "0ddb743a",
   "metadata": {
    "scrolled": false
   },
   "outputs": [
    {
     "data": {
      "text/plain": [
       "<AxesSubplot:xlabel='index', ylabel='score'>"
      ]
     },
     "execution_count": 138,
     "metadata": {},
     "output_type": "execute_result"
    },
    {
     "data": {
      "image/png": "[encoded data removed]",
      "text/plain": [
       "<Figure size 432x288 with 1 Axes>"
      ]
     },
     "metadata": {
      "needs_background": "light"
     },
     "output_type": "display_data"
    }
   ],
   "source": [
    "import cutecharts.charts as ctc\n",
    "\n",
    "exam_scores.plot(xlabel='index', ylabel='score')"
   ]
  },
  {
   "cell_type": "markdown",
   "id": "65faef72",
   "metadata": {},
   "source": [
    "4. Write the code necessary to implement a curve for your exam_grades Series and save this as curved_grades. Add the necessary points to the highest grade to make it 100, and add the same number of points to every other score in the Series as well."
   ]
  },
  {
   "cell_type": "code",
   "execution_count": 130,
   "id": "abb05025",
   "metadata": {},
   "outputs": [
    {
     "data": {
      "text/plain": [
       "0      64\n",
       "1      90\n",
       "2      79\n",
       "3      66\n",
       "4      97\n",
       "5      75\n",
       "6      64\n",
       "7      87\n",
       "8      99\n",
       "9      82\n",
       "10     69\n",
       "11     76\n",
       "12     73\n",
       "13     85\n",
       "14    100\n",
       "15     84\n",
       "16     89\n",
       "17     96\n",
       "18     86\n",
       "19     82\n",
       "dtype: int64"
      ]
     },
     "execution_count": 130,
     "metadata": {},
     "output_type": "execute_result"
    }
   ],
   "source": [
    "max_diff = 100 - exam_scores.max()\n",
    "\n",
    "exam_grades = max_diff + exam_scores\n",
    "# exam_grades.plot(title = 'exam grades', xlabel = 'index', ylabel = 'exam scores')\n",
    "exam_grades\n",
    "\n"
   ]
  },
  {
   "cell_type": "code",
   "execution_count": null,
   "id": "4db1dde7",
   "metadata": {},
   "outputs": [],
   "source": []
  }
 ],
 "metadata": {
  "kernelspec": {
   "display_name": "Python 3",
   "language": "python",
   "name": "python3"
  },
  "language_info": {
   "codemirror_mode": {
    "name": "ipython",
    "version": 3
   },
   "file_extension": ".py",
   "mimetype": "text/x-python",
   "name": "python",
   "nbconvert_exporter": "python",
   "pygments_lexer": "ipython3",
   "version": "3.8.8"
  }
 },
 "nbformat": 4,
 "nbformat_minor": 5
}
