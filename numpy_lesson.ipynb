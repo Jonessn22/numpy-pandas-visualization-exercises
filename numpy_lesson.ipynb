{
 "cells": [
  {
   "cell_type": "markdown",
   "id": "be0215fa",
   "metadata": {},
   "source": [
    "# numpy_lesson"
   ]
  },
  {
   "cell_type": "markdown",
   "id": "4aa37017",
   "metadata": {},
   "source": [
    "- num = numerical\n",
    "- py = python\n",
    "- linear algebra library for Python\n",
    "- iterable = an object that holds multiple data points that you can iterate through\n",
    "- opposite of a scalar which is an object that holds only one data point\n",
    "- you can turn any iterable into a numpy array\n",
    "- numpy.array is a data type\n",
    "- matrix is a 2D list, a list of lists"
   ]
  },
  {
   "cell_type": "code",
   "execution_count": 5,
   "id": "4caef2fd",
   "metadata": {},
   "outputs": [
    {
     "name": "stdout",
     "output_type": "stream",
     "text": [
      "412 ms ± 9.64 ms per loop (mean ± std. dev. of 7 runs, 1 loop each)\n"
     ]
    }
   ],
   "source": [
    "%%timeit #magic method that times and operation in a cell\n",
    "[x **2 for x in range(1, 1_000_000)]"
   ]
  },
  {
   "cell_type": "code",
   "execution_count": 6,
   "id": "919f6e82",
   "metadata": {},
   "outputs": [
    {
     "name": "stdout",
     "output_type": "stream",
     "text": [
      "2.59 ms ± 53.4 µs per loop (mean ± std. dev. of 7 runs, 100 loops each)\n"
     ]
    }
   ],
   "source": [
    "%%timeit #magic method that times and operation in a cell\n",
    "np.arange(1, 1_000_000) **2"
   ]
  },
  {
   "cell_type": "code",
   "execution_count": 10,
   "id": "384496cb",
   "metadata": {},
   "outputs": [
    {
     "data": {
      "text/plain": [
       "numpy.ndarray"
      ]
     },
     "execution_count": 10,
     "metadata": {},
     "output_type": "execute_result"
    }
   ],
   "source": [
    "#convert list  into numpy array by overwriting x variable\n",
    "x = [1, 2, 3, 4, 5]\n",
    "x = np.array(x)\n",
    "x\n",
    "\n",
    "type(x)"
   ]
  },
  {
   "cell_type": "code",
   "execution_count": 9,
   "id": "e8043da3",
   "metadata": {},
   "outputs": [
    {
     "data": {
      "text/plain": [
       "(5,)"
      ]
     },
     "execution_count": 9,
     "metadata": {},
     "output_type": "execute_result"
    }
   ],
   "source": [
    "#gives us the shape of a variable which tells us ...\n",
    "x.shape"
   ]
  },
  {
   "cell_type": "code",
   "execution_count": 11,
   "id": "cb86b1fb",
   "metadata": {},
   "outputs": [
    {
     "data": {
      "text/plain": [
       "array([1, 2, 3, 4, 5])"
      ]
     },
     "execution_count": 11,
     "metadata": {},
     "output_type": "execute_result"
    }
   ],
   "source": [
    "x"
   ]
  },
  {
   "cell_type": "markdown",
   "id": "2c1ddf22",
   "metadata": {},
   "source": [
    "# Arrays of Booleans \n",
    "- Boolean Masking\n",
    "- Array filtering\n",
    "- Indexing\n",
    "\n",
    "##### True/False (think of this as a light switch)"
   ]
  },
  {
   "cell_type": "code",
   "execution_count": 13,
   "id": "3c6688e8",
   "metadata": {},
   "outputs": [
    {
     "data": {
      "text/plain": [
       "array([5, 6, 7, 8])"
      ]
     },
     "execution_count": 13,
     "metadata": {},
     "output_type": "execute_result"
    }
   ],
   "source": [
    "a = np.array([5, 6, 7, 8])\n",
    "a"
   ]
  },
  {
   "cell_type": "code",
   "execution_count": 15,
   "id": "0c93dce5",
   "metadata": {},
   "outputs": [],
   "source": [
    "show_second_fourth = np.array([False, True, False, True])"
   ]
  },
  {
   "cell_type": "code",
   "execution_count": 19,
   "id": "846f7937",
   "metadata": {},
   "outputs": [
    {
     "data": {
      "text/plain": [
       "array([7, 8])"
      ]
     },
     "execution_count": 19,
     "metadata": {},
     "output_type": "execute_result"
    }
   ],
   "source": [
    "# sytax for filtering an array\n",
    "    #also called: boolean masking or indexing\n",
    "# similar to SQL code: \n",
    "    #select a where a > 6\n",
    "a[a > 6]"
   ]
  },
  {
   "cell_type": "code",
   "execution_count": 20,
   "id": "61e8c569",
   "metadata": {},
   "outputs": [
    {
     "data": {
      "text/plain": [
       "array([6, 8])"
      ]
     },
     "execution_count": 20,
     "metadata": {},
     "output_type": "execute_result"
    }
   ],
   "source": [
    "#can also use this sytax\n",
    "a[show_second_fourth]"
   ]
  },
  {
   "cell_type": "code",
   "execution_count": 24,
   "id": "4f2c3c16",
   "metadata": {},
   "outputs": [
    {
     "data": {
      "text/plain": [
       "array([2, 3, 3, 2])"
      ]
     },
     "execution_count": 24,
     "metadata": {},
     "output_type": "execute_result"
    }
   ],
   "source": [
    "np.random.randint(1, 4, 4)"
   ]
  },
  {
   "cell_type": "code",
   "execution_count": null,
   "id": "2cec40fc",
   "metadata": {},
   "outputs": [],
   "source": []
  }
 ],
 "metadata": {
  "kernelspec": {
   "display_name": "Python 3",
   "language": "python",
   "name": "python3"
  },
  "language_info": {
   "codemirror_mode": {
    "name": "ipython",
    "version": 3
   },
   "file_extension": ".py",
   "mimetype": "text/x-python",
   "name": "python",
   "nbconvert_exporter": "python",
   "pygments_lexer": "ipython3",
   "version": "3.8.8"
  }
 },
 "nbformat": 4,
 "nbformat_minor": 5
}
