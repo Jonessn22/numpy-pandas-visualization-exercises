{
 "cells": [
  {
   "cell_type": "markdown",
   "id": "c3a06790",
   "metadata": {},
   "source": [
    "# big_o_notation (working)\n",
    "from matplotlib exercises\n",
    "\n",
    "- Title your chart \"Big O Notation\"\n",
    "- Label your x axis \"Elements\"\n",
    "- Label your y axis \"Operations\"\n",
    "- Label your curves or make a legend for the curves\n",
    "- Use LaTex notation where possible\n",
    "\n",
    "## Curves to graph\n",
    "- y1 = 0n + 1 and label the curve \"O(1)\n",
    "- y2 = log(n) and label the curve \"O(log n)\"\n",
    "- y3 = n and label the curve \"O(n)\"\n",
    "- y4 = n∗log(n) and label it \"O(n log n)\"\n",
    "- y5 = n^2 and label it \"O(n^2)\"\n",
    "- y6 = 2^n and label it \"O(2^n)\" \n",
    "- y7 = n! and label it \"O(n!)\"\n"
   ]
  },
  {
   "cell_type": "code",
   "execution_count": 1,
   "id": "23a35fd2",
   "metadata": {},
   "outputs": [],
   "source": [
    "import matplotlib.pyplot as plt\n",
    "import math"
   ]
  },
  {
   "cell_type": "code",
   "execution_count": 2,
   "id": "67e95ec2",
   "metadata": {
    "scrolled": true
   },
   "outputs": [],
   "source": [
    "n = range(1, 10)\n",
    "\n",
    "y1 = [(0 * n) + 1 for n in n]\n",
    "y2 = [math.log(n) for n in n]\n",
    "y3 = [n for n in n]\n",
    "y4 = [n * math.log(n) for n in n]\n",
    "y5 = [n **2 for n in n]\n",
    "y6 = [2 **n for n in n]\n",
    "y7 = [math.factorial(n) for n in n]"
   ]
  },
  {
   "cell_type": "code",
   "execution_count": 24,
   "id": "4b866d12",
   "metadata": {
    "scrolled": false
   },
   "outputs": [
    {
     "data": {
      "image/png": "[encoded data removed]",
      "text/plain": [
       "<Figure size 432x288 with 1 Axes>"
      ]
     },
     "metadata": {
      "needs_background": "light"
     },
     "output_type": "display_data"
    }
   ],
   "source": [
    "plt.plot(n, y1, color = 'red', label = 'O(1)')\n",
    "plt.plot(n, y2, color = 'orange', label = 'O(log n)')\n",
    "plt.plot(n, y3, color = 'yellow', label = 'O(n)')\n",
    "plt.plot(n, y4, color = 'green', label = 'O(n log n)')\n",
    "plt.plot(n, y5, color = 'blue', label = 'O(n^2)')\n",
    "plt.plot(n, y6, color = 'purple', label = 'O(2^n)')\n",
    "plt.plot(n, y7, color = 'red', label = 'O(n!)')\n",
    "\n",
    "plt.title('Big O Notation')\n",
    "plt.xlabel('Elements')\n",
    "plt.ylabel('Operators')\n",
    "# plt.text(8.5, .1, ('O(1)'), color = 'red')\n",
    "plt.legend()\n",
    "\n",
    "plt.xlim(5, 10)\n",
    "plt.ylim(0, 2000)\n",
    "\n",
    "plt.show()"
   ]
  },
  {
   "cell_type": "markdown",
   "id": "4545abde",
   "metadata": {},
   "source": [
    "# (bonus 1) Write the code necessary to write your name on a chart. Use box letters."
   ]
  },
  {
   "cell_type": "code",
   "execution_count": null,
   "id": "602e27e6",
   "metadata": {
    "scrolled": true
   },
   "outputs": [],
   "source": []
  },
  {
   "cell_type": "markdown",
   "id": "28359a11",
   "metadata": {},
   "source": [
    "# (bonus) Use curves for letters in your name that have curves in them."
   ]
  },
  {
   "cell_type": "code",
   "execution_count": null,
   "id": "445b1e4c",
   "metadata": {},
   "outputs": [],
   "source": []
  }
 ],
 "metadata": {
  "kernelspec": {
   "display_name": "Python 3",
   "language": "python",
   "name": "python3"
  },
  "language_info": {
   "codemirror_mode": {
    "name": "ipython",
    "version": 3
   },
   "file_extension": ".py",
   "mimetype": "text/x-python",
   "name": "python",
   "nbconvert_exporter": "python",
   "pygments_lexer": "ipython3",
   "version": "3.8.8"
  }
 },
 "nbformat": 4,
 "nbformat_minor": 5
}
