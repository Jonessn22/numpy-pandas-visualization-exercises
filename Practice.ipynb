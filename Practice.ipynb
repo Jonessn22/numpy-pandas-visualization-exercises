{
 "cells": [
  {
   "cell_type": "code",
   "execution_count": 17,
   "id": "2cfd415d",
   "metadata": {},
   "outputs": [],
   "source": [
    "rando_list = [1, 4, 3]\n",
    "\n",
    "rando_list1 = [5, 'and', 4.5]\n",
    "\n",
    "rando_list2 = [2, [5, 7, 9], 7]\n",
    "\n",
    "rando_list3 = [5, {'this': 1, 'is': 2, 'a': 3, 'list': 4}, ['hello', 'world']]\n",
    "\n",
    "rando_dict = {'this': 1, 'is': 2, 'a': 3, 'list': 4}"
   ]
  },
  {
   "cell_type": "code",
   "execution_count": 2,
   "id": "6a4fbafe",
   "metadata": {},
   "outputs": [],
   "source": [
    "import pandas as pd\n",
    "import numpy as np\n",
    "import matplotlib.pyplot as plt"
   ]
  },
  {
   "cell_type": "code",
   "execution_count": 10,
   "id": "e79d91d7",
   "metadata": {},
   "outputs": [
    {
     "name": "stdout",
     "output_type": "stream",
     "text": [
      "0    1\n",
      "1    4\n",
      "2    3\n",
      "dtype: int64\n"
     ]
    }
   ],
   "source": [
    "series = pd.Series(rando_list)\n",
    "print(series)"
   ]
  },
  {
   "cell_type": "code",
   "execution_count": 11,
   "id": "652f0835",
   "metadata": {},
   "outputs": [
    {
     "name": "stdout",
     "output_type": "stream",
     "text": [
      "0      5\n",
      "1    and\n",
      "2    4.5\n",
      "dtype: object\n"
     ]
    }
   ],
   "source": [
    "series1 = pd.Series(rando_list1)\n",
    "print(series1)"
   ]
  },
  {
   "cell_type": "code",
   "execution_count": 13,
   "id": "eeafadd1",
   "metadata": {},
   "outputs": [
    {
     "data": {
      "text/plain": [
       "0            2\n",
       "1    [5, 7, 9]\n",
       "2            7\n",
       "dtype: object"
      ]
     },
     "execution_count": 13,
     "metadata": {},
     "output_type": "execute_result"
    }
   ],
   "source": [
    "series2 = pd.Series(rando_list2)\n",
    "series2"
   ]
  },
  {
   "cell_type": "code",
   "execution_count": 15,
   "id": "37f14d11",
   "metadata": {},
   "outputs": [
    {
     "data": {
      "text/plain": [
       "0                                          5\n",
       "1    {'this': 1, 'is': 2, 'a': 3, 'list': 4}\n",
       "2                             [hello, world]\n",
       "dtype: object"
      ]
     },
     "execution_count": 15,
     "metadata": {},
     "output_type": "execute_result"
    }
   ],
   "source": [
    "series3 = pd.Series(rando_list3)\n",
    "series3"
   ]
  },
  {
   "cell_type": "code",
   "execution_count": 19,
   "id": "74ba097c",
   "metadata": {},
   "outputs": [
    {
     "data": {
      "text/plain": [
       "this    1\n",
       "is      2\n",
       "a       3\n",
       "list    4\n",
       "dtype: int64"
      ]
     },
     "execution_count": 19,
     "metadata": {},
     "output_type": "execute_result"
    }
   ],
   "source": [
    "series4 = pd.Series(rando_dict)\n",
    "series4"
   ]
  },
  {
   "cell_type": "code",
   "execution_count": 29,
   "id": "f2ffb68c",
   "metadata": {
    "scrolled": false
   },
   "outputs": [
    {
     "name": "stdout",
     "output_type": "stream",
     "text": [
      "RangeIndex(start=0, stop=3, step=1)\n",
      "RangeIndex(start=0, stop=3, step=1)\n",
      "RangeIndex(start=0, stop=3, step=1)\n",
      "<class 'pandas.core.indexes.range.RangeIndex'>\n",
      "<class 'pandas.core.indexes.base.Index'>\n"
     ]
    }
   ],
   "source": [
    "print(series.index)\n",
    "print(series1.index)\n",
    "print(series2.index)\n",
    "print(type(series3.index))\n",
    "print(type(series4.index))"
   ]
  },
  {
   "cell_type": "code",
   "execution_count": 38,
   "id": "68c2d27f",
   "metadata": {},
   "outputs": [
    {
     "name": "stdout",
     "output_type": "stream",
     "text": [
      "<class 'numpy.ndarray'>\n"
     ]
    }
   ],
   "source": [
    "print(type(series3.values))"
   ]
  },
  {
   "cell_type": "code",
   "execution_count": 41,
   "id": "dbdd966e",
   "metadata": {},
   "outputs": [
    {
     "data": {
      "text/plain": [
       "0       list\n",
       "1         of\n",
       "2    strings\n",
       "dtype: object"
      ]
     },
     "execution_count": 41,
     "metadata": {},
     "output_type": "execute_result"
    }
   ],
   "source": [
    "string = pd.Series(['list', 'of', 'strings'])\n",
    "string"
   ]
  },
  {
   "cell_type": "code",
   "execution_count": 42,
   "id": "2e945939",
   "metadata": {},
   "outputs": [],
   "source": [
    "string.name = 'test'"
   ]
  },
  {
   "cell_type": "code",
   "execution_count": 44,
   "id": "397fc605",
   "metadata": {},
   "outputs": [
    {
     "data": {
      "text/plain": [
       "'test'"
      ]
     },
     "execution_count": 44,
     "metadata": {},
     "output_type": "execute_result"
    }
   ],
   "source": [
    "'test'"
   ]
  },
  {
   "cell_type": "code",
   "execution_count": 45,
   "id": "e45513d3",
   "metadata": {},
   "outputs": [
    {
     "data": {
      "text/plain": [
       "0                                          5\n",
       "1    {'this': 1, 'is': 2, 'a': 3, 'list': 4}\n",
       "2                             [hello, world]\n",
       "dtype: object"
      ]
     },
     "execution_count": 45,
     "metadata": {},
     "output_type": "execute_result"
    }
   ],
   "source": [
    "series3"
   ]
  },
  {
   "cell_type": "code",
   "execution_count": 56,
   "id": "c12f41ac",
   "metadata": {},
   "outputs": [
    {
     "data": {
      "text/plain": [
       "0    a\n",
       "dtype: object"
      ]
     },
     "execution_count": 56,
     "metadata": {},
     "output_type": "execute_result"
    }
   ],
   "source": [
    "pd.Series(['a', 'b', 'a', 'c', 'b', 'a', 'd', 'a']).mode()"
   ]
  },
  {
   "cell_type": "code",
   "execution_count": null,
   "id": "f0df10c7",
   "metadata": {},
   "outputs": [],
   "source": []
  }
 ],
 "metadata": {
  "kernelspec": {
   "display_name": "Python 3",
   "language": "python",
   "name": "python3"
  },
  "language_info": {
   "codemirror_mode": {
    "name": "ipython",
    "version": 3
   },
   "file_extension": ".py",
   "mimetype": "text/x-python",
   "name": "python",
   "nbconvert_exporter": "python",
   "pygments_lexer": "ipython3",
   "version": "3.8.8"
  }
 },
 "nbformat": 4,
 "nbformat_minor": 5
}
