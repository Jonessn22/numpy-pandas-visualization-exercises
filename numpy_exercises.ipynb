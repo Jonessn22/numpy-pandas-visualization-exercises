{
 "cells": [
  {
   "cell_type": "markdown",
   "id": "3bfe066a",
   "metadata": {},
   "source": [
    "# numpy_exercises\n",
    "- convert to .py when finished"
   ]
  },
  {
   "cell_type": "markdown",
   "id": "63c86ff5",
   "metadata": {},
   "source": [
    "### a = np.array([4, 10, 12, 23, -2, -1, 0, 0, 0, -6, 3, -7])"
   ]
  },
  {
   "cell_type": "markdown",
   "id": "b9f10a9a",
   "metadata": {},
   "source": [
    "### 1. How many negative numbers are there?"
   ]
  },
  {
   "cell_type": "code",
   "execution_count": 21,
   "id": "b1365d13",
   "metadata": {},
   "outputs": [
    {
     "name": "stdout",
     "output_type": "stream",
     "text": [
      "neg_a = [-2 -1 -6 -7]\n",
      "\n",
      "There are 4 negative numbers in the array.\n"
     ]
    }
   ],
   "source": [
    "import numpy as np\n",
    "\n",
    "a = np.array([4, 10, 12, 23, -2, -1, 0, 0, 0, -6, 3, -7])\n",
    "\n",
    "#assigned the variable neg_a to given array with the negative numbers filtered to get negative numbers in array\n",
    "neg_a = a[a < 0]\n",
    "print(f'neg_a = {neg_a}')\n",
    "print()\n",
    "\n",
    "#used the len() function to find how many negative numbers are in the array\n",
    "print(f'There are {len(neg_a)} negative numbers in the array.')"
   ]
  },
  {
   "cell_type": "markdown",
   "id": "1ea193f7",
   "metadata": {},
   "source": [
    "### 2. How many positive numbers are there?"
   ]
  },
  {
   "cell_type": "code",
   "execution_count": 23,
   "id": "012925c3",
   "metadata": {},
   "outputs": [
    {
     "name": "stdout",
     "output_type": "stream",
     "text": [
      "pos_a = [ 4 10 12 23  3]\n",
      "\n",
      "There are 5 positive numbers in the array.\n"
     ]
    }
   ],
   "source": [
    "#assigned the variable pos_a to given array with the positive numbers filtered to get positive numbers in array\n",
    "pos_a = a[a > 0]\n",
    "print(f'pos_a = {pos_a}')\n",
    "print()\n",
    "\n",
    "#used the len() function to find how many positive numbers are in the array\n",
    "print(f'There are {len(pos_a)} positive numbers in the array.')"
   ]
  },
  {
   "cell_type": "markdown",
   "id": "4602bd03",
   "metadata": {},
   "source": [
    "### 3. How many even positive numbers are there?"
   ]
  },
  {
   "cell_type": "code",
   "execution_count": 28,
   "id": "2ad9eac1",
   "metadata": {},
   "outputs": [
    {
     "name": "stdout",
     "output_type": "stream",
     "text": [
      "even_pos_a = [ 4 10 12]\n",
      "\n",
      "There are [ 4 10 12] numbers that are even AND positive in the array.\n"
     ]
    }
   ],
   "source": [
    "#assigned even_pos_a to given array, filtering the positive and even numbers using a boolean filter\n",
    "even_pos_a = a[(a > 0) & (a % 2 == 0)]\n",
    "print(f'even_pos_a = {even_pos_a}')\n",
    "print()\n",
    "\n",
    "#used the len() function to find how many even AND positive numbers are in the array\n",
    "print(f'There are {even_pos_a} numbers that are even AND positive in the array.')"
   ]
  },
  {
   "cell_type": "markdown",
   "id": "4a37e413",
   "metadata": {},
   "source": [
    "### 4. If you were to add 3 to each data point, how many positive numbers would there be?"
   ]
  },
  {
   "cell_type": "code",
   "execution_count": 39,
   "id": "8dfb43e1",
   "metadata": {},
   "outputs": [
    {
     "name": "stdout",
     "output_type": "stream",
     "text": [
      " This is what you get when you add 3 to a:[ 4 10 12 23 -2 -1  0  0  0 -6  3 -7]\n",
      " ---------------------------------> add 3:[ 7 13 15 26  1  2  3  3  3 -3  6 -4]\n"
     ]
    }
   ],
   "source": [
    "#assigned add_3 to the array that adds 3 to each number in a\n",
    "add_3 = a + 3\n",
    "print(f' This is what you get when you add 3 to a:{a}')\n",
    "print(f' ---------------------------------> add 3:{add_3}')"
   ]
  },
  {
   "cell_type": "markdown",
   "id": "d801bd1b",
   "metadata": {},
   "source": [
    "### 5. If you squared each number, what would the new mean and standard deviation be?"
   ]
  },
  {
   "cell_type": "code",
   "execution_count": 55,
   "id": "7603e849",
   "metadata": {},
   "outputs": [
    {
     "name": "stdout",
     "output_type": "stream",
     "text": [
      "a^2:[ 16 100 144 529   4   1   0   0   0  36   9  49]\n",
      "\n",
      "The mean for a^2 = 74.0\n",
      "\n",
      "The std dev for a^2 = 144.0243035046516\n"
     ]
    }
   ],
   "source": [
    "#to get the value of a^2\n",
    "a_squ = a**2\n",
    "print(f'a^2:{a_squ}')\n",
    "print()\n",
    "\n",
    "print(f'The mean for a^2 = {a_squ.mean()}')\n",
    "print()\n",
    "print(f'The std dev for a^2 = {a_squ.std()}')"
   ]
  },
  {
   "cell_type": "markdown",
   "id": "fc5d5993",
   "metadata": {},
   "source": [
    "### 6. A common statistical operation on a dataset is centering. This means to adjust the data such that the mean of the data is 0. This is done by subtracting the mean from each data point. Center the data set. See this link for more on centering."
   ]
  },
  {
   "cell_type": "code",
   "execution_count": 72,
   "id": "51f229ad",
   "metadata": {},
   "outputs": [
    {
     "name": "stdout",
     "output_type": "stream",
     "text": [
      "The mean of array a = 3.0\n",
      "\n",
      "Centering array a around 0 will give us the new array a_center:\n",
      "[  1.   7.   9.  20.  -5.  -4.  -3.  -3.  -3.  -9.   0. -10.]\n"
     ]
    }
   ],
   "source": [
    "#used the .mean() method to find the mean of each object in array a\n",
    "print(f'The mean of array a = {a.mean()}')\n",
    "print()\n",
    "\n",
    "#substracted a.mean() from each object in array a to center the array around 0\n",
    "a_center = a - a.mean()\n",
    "print(f'Centering array a around 0 will give us the new array a_center:') \n",
    "print(f'{a_center}')"
   ]
  },
  {
   "cell_type": "markdown",
   "id": "c0bf3c21",
   "metadata": {},
   "source": [
    "### 7. Calculate the z-score for each data point. Recall that the z-score is given by:\n",
    "# Z = (x − μ) / σ"
   ]
  },
  {
   "cell_type": "code",
   "execution_count": 80,
   "id": "bb2ce234",
   "metadata": {},
   "outputs": [
    {
     "name": "stdout",
     "output_type": "stream",
     "text": [
      "The z-score for each data point in a is:[ 0.12403473  0.86824314  1.11631261  2.48069469 -0.62017367 -0.49613894\n",
      " -0.3721042  -0.3721042  -0.3721042  -1.11631261  0.         -1.24034735]\n"
     ]
    }
   ],
   "source": [
    "#divided a_center (already subtracted mean of a from a value) by std dev of a to get the z score\n",
    "a_zscore = a_center / a.std()\n",
    "\n",
    "print(f'The z-score for each data point in a is:{a_zscore}')"
   ]
  },
  {
   "cell_type": "markdown",
   "id": "4d09424d",
   "metadata": {},
   "source": [
    "### 8. Copy the setup and exercise directions from More Numpy Practice into your numpy_exercises.py and add your solutions.\n",
    "(see link in exercises)"
   ]
  },
  {
   "cell_type": "code",
   "execution_count": null,
   "id": "3e3acb1c",
   "metadata": {},
   "outputs": [],
   "source": []
  }
 ],
 "metadata": {
  "kernelspec": {
   "display_name": "Python 3",
   "language": "python",
   "name": "python3"
  },
  "language_info": {
   "codemirror_mode": {
    "name": "ipython",
    "version": 3
   },
   "file_extension": ".py",
   "mimetype": "text/x-python",
   "name": "python",
   "nbconvert_exporter": "python",
   "pygments_lexer": "ipython3",
   "version": "3.8.8"
  }
 },
 "nbformat": 4,
 "nbformat_minor": 5
}
