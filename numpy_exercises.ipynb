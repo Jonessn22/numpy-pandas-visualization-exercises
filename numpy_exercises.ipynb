{
 "cells": [
  {
   "cell_type": "markdown",
   "id": "db8e2e30",
   "metadata": {},
   "source": [
    "# numpy_exercises\n",
    "- convert to .py when finished"
   ]
  },
  {
   "cell_type": "markdown",
   "id": "e266fca3",
   "metadata": {},
   "source": [
    "### a = np.array([4, 10, 12, 23, -2, -1, 0, 0, 0, -6, 3, -7])"
   ]
  },
  {
   "cell_type": "markdown",
   "id": "7c2e9042",
   "metadata": {},
   "source": [
    "### 1. How many negative numbers are there?"
   ]
  },
  {
   "cell_type": "code",
   "execution_count": 1,
   "id": "d6028a10",
   "metadata": {},
   "outputs": [
    {
     "name": "stdout",
     "output_type": "stream",
     "text": [
      "neg_a = [-2 -1 -6 -7]\n",
      "\n",
      "There are 4 negative numbers in the array.\n"
     ]
    }
   ],
   "source": [
    "import numpy as np\n",
    "\n",
    "a = np.array([4, 10, 12, 23, -2, -1, 0, 0, 0, -6, 3, -7])\n",
    "\n",
    "#assigned the variable neg_a to given array with the negative numbers filtered to get negative numbers in array\n",
    "neg_a = a[a < 0]\n",
    "print(f'neg_a = {neg_a}')\n",
    "print()\n",
    "\n",
    "#used the len() function to find how many negative numbers are in the array\n",
    "print(f'There are {len(neg_a)} negative numbers in the array.')"
   ]
  },
  {
   "cell_type": "markdown",
   "id": "5f6d363c",
   "metadata": {},
   "source": [
    "### 2. How many positive numbers are there?"
   ]
  },
  {
   "cell_type": "code",
   "execution_count": 2,
   "id": "fd40564b",
   "metadata": {},
   "outputs": [
    {
     "name": "stdout",
     "output_type": "stream",
     "text": [
      "pos_a = [ 4 10 12 23  3]\n",
      "\n",
      "There are 5 positive numbers in the array.\n"
     ]
    }
   ],
   "source": [
    "#assigned the variable pos_a to given array with the positive numbers filtered to get positive numbers in array\n",
    "pos_a = a[a > 0]\n",
    "print(f'pos_a = {pos_a}')\n",
    "print()\n",
    "\n",
    "#used the len() function to find how many positive numbers are in the array\n",
    "print(f'There are {len(pos_a)} positive numbers in the array.')"
   ]
  },
  {
   "cell_type": "markdown",
   "id": "ef496319",
   "metadata": {},
   "source": [
    "### 3. How many even positive numbers are there?"
   ]
  },
  {
   "cell_type": "code",
   "execution_count": 3,
   "id": "5afbd7a1",
   "metadata": {},
   "outputs": [
    {
     "name": "stdout",
     "output_type": "stream",
     "text": [
      "even_pos_a = [ 4 10 12]\n",
      "\n",
      "There are [ 4 10 12] numbers that are even AND positive in the array.\n"
     ]
    }
   ],
   "source": [
    "#assigned even_pos_a to given array, filtering the positive and even numbers using a boolean filter\n",
    "even_pos_a = a[(a > 0) & (a % 2 == 0)]\n",
    "print(f'even_pos_a = {even_pos_a}')\n",
    "print()\n",
    "\n",
    "#used the len() function to find how many even AND positive numbers are in the array\n",
    "print(f'There are {even_pos_a} numbers that are even AND positive in the array.')"
   ]
  },
  {
   "cell_type": "markdown",
   "id": "65e9f842",
   "metadata": {},
   "source": [
    "### 4. If you were to add 3 to each data point, how many positive numbers would there be?"
   ]
  },
  {
   "cell_type": "code",
   "execution_count": 4,
   "id": "a9ec89cb",
   "metadata": {},
   "outputs": [
    {
     "name": "stdout",
     "output_type": "stream",
     "text": [
      " This is what you get when you add 3 to a:[ 4 10 12 23 -2 -1  0  0  0 -6  3 -7]\n",
      " ---------------------------------> add 3:[ 7 13 15 26  1  2  3  3  3 -3  6 -4]\n"
     ]
    }
   ],
   "source": [
    "#assigned add_3 to the array that adds 3 to each number in a\n",
    "add_3 = a + 3\n",
    "print(f' This is what you get when you add 3 to a:{a}')\n",
    "print(f' ---------------------------------> add 3:{add_3}')"
   ]
  },
  {
   "cell_type": "markdown",
   "id": "b3ca5810",
   "metadata": {},
   "source": [
    "### 5. If you squared each number, what would the new mean and standard deviation be?"
   ]
  },
  {
   "cell_type": "code",
   "execution_count": 5,
   "id": "09ae0474",
   "metadata": {},
   "outputs": [
    {
     "name": "stdout",
     "output_type": "stream",
     "text": [
      "a^2:[ 16 100 144 529   4   1   0   0   0  36   9  49]\n",
      "\n",
      "The mean for a^2 = 74.0\n",
      "\n",
      "The std dev for a^2 = 144.0243035046516\n"
     ]
    }
   ],
   "source": [
    "#to get the value of a^2\n",
    "a_squ = a**2\n",
    "print(f'a^2:{a_squ}')\n",
    "print()\n",
    "\n",
    "print(f'The mean for a^2 = {a_squ.mean()}')\n",
    "print()\n",
    "print(f'The std dev for a^2 = {a_squ.std()}')"
   ]
  },
  {
   "cell_type": "markdown",
   "id": "4fb24f29",
   "metadata": {},
   "source": [
    "### 6. A common statistical operation on a dataset is centering. This means to adjust the data such that the mean of the data is 0. This is done by subtracting the mean from each data point. Center the data set. See this link for more on centering."
   ]
  },
  {
   "cell_type": "code",
   "execution_count": 6,
   "id": "cba0d50f",
   "metadata": {},
   "outputs": [
    {
     "name": "stdout",
     "output_type": "stream",
     "text": [
      "The mean of array a = 3.0\n",
      "\n",
      "Centering array a around 0 will give us the new array a_center:\n",
      "[  1.   7.   9.  20.  -5.  -4.  -3.  -3.  -3.  -9.   0. -10.]\n"
     ]
    }
   ],
   "source": [
    "#used the .mean() method to find the mean of each object in array a\n",
    "print(f'The mean of array a = {a.mean()}')\n",
    "print()\n",
    "\n",
    "#substracted a.mean() from each object in array a to center the array around 0\n",
    "a_center = a - a.mean()\n",
    "print(f'Centering array a around 0 will give us the new array a_center:') \n",
    "print(f'{a_center}')"
   ]
  },
  {
   "cell_type": "markdown",
   "id": "f152ff43",
   "metadata": {},
   "source": [
    "### 7. Calculate the z-score for each data point. Recall that the z-score is given by:\n",
    "# Z = (x − μ) / σ"
   ]
  },
  {
   "cell_type": "code",
   "execution_count": 7,
   "id": "e274b55e",
   "metadata": {},
   "outputs": [
    {
     "name": "stdout",
     "output_type": "stream",
     "text": [
      "The z-score for each data point in a is:[ 0.12403473  0.86824314  1.11631261  2.48069469 -0.62017367 -0.49613894\n",
      " -0.3721042  -0.3721042  -0.3721042  -1.11631261  0.         -1.24034735]\n"
     ]
    }
   ],
   "source": [
    "#divided a_center (already subtracted mean of a from a value) by std dev of a to get the z score\n",
    "a_zscore = a_center / a.std()\n",
    "\n",
    "print(f'The z-score for each data point in a is:{a_zscore}')"
   ]
  },
  {
   "cell_type": "markdown",
   "id": "0660230e",
   "metadata": {},
   "source": [
    "### 8. Copy the setup and exercise directions from More Numpy Practice into your numpy_exercises.py and add your solutions.\n",
    "(see link in exercises)"
   ]
  },
  {
   "cell_type": "code",
   "execution_count": 9,
   "id": "67ad0c32",
   "metadata": {},
   "outputs": [],
   "source": [
    "a = np.array([1, 2, 3, 4, 5, 6, 7, 8, 9, 10])"
   ]
  },
  {
   "cell_type": "markdown",
   "id": "19a58146",
   "metadata": {},
   "source": [
    "### Exercise 1 - Make a variable called sum_of_a to hold the sum of all the numbers in above list"
   ]
  },
  {
   "cell_type": "code",
   "execution_count": 10,
   "id": "6f6810e4",
   "metadata": {},
   "outputs": [
    {
     "name": "stdout",
     "output_type": "stream",
     "text": [
      "55\n"
     ]
    }
   ],
   "source": [
    "sum_of_a = sum(a)\n",
    "print(sum_of_a)"
   ]
  },
  {
   "cell_type": "markdown",
   "id": "daf2e22c",
   "metadata": {},
   "source": [
    "### Exercise 2 - Make a variable named min_of_a to hold the minimum of all the numbers in the above list"
   ]
  },
  {
   "cell_type": "code",
   "execution_count": 11,
   "id": "6e6d3692",
   "metadata": {},
   "outputs": [
    {
     "name": "stdout",
     "output_type": "stream",
     "text": [
      "1\n"
     ]
    }
   ],
   "source": [
    "min_of_a = min(a)\n",
    "print(min_of_a)"
   ]
  },
  {
   "cell_type": "markdown",
   "id": "0fbb2d90",
   "metadata": {},
   "source": [
    "### Exercise 3 - Make a variable named max_of_a to hold the max number of all the numbers in the above list"
   ]
  },
  {
   "cell_type": "code",
   "execution_count": 12,
   "id": "d276eb66",
   "metadata": {},
   "outputs": [
    {
     "name": "stdout",
     "output_type": "stream",
     "text": [
      "10\n"
     ]
    }
   ],
   "source": [
    "max_of_a = max(a)\n",
    "print(max(a))"
   ]
  },
  {
   "cell_type": "markdown",
   "id": "dbe0d85c",
   "metadata": {},
   "source": [
    "### Exercise 4 - Make a variable named mean_of_a to hold the average of all the numbers in the above list"
   ]
  },
  {
   "cell_type": "code",
   "execution_count": 14,
   "id": "d4c16956",
   "metadata": {},
   "outputs": [
    {
     "name": "stdout",
     "output_type": "stream",
     "text": [
      "5.5\n"
     ]
    }
   ],
   "source": [
    "mean_of_a = a.mean()\n",
    "print(mean_of_a)"
   ]
  },
  {
   "cell_type": "markdown",
   "id": "0fda58d4",
   "metadata": {},
   "source": [
    "### Exercise 5 - Make a variable named product_of_a to hold the product of multiplying all the numbers in the above list together"
   ]
  },
  {
   "cell_type": "code",
   "execution_count": 29,
   "id": "a4148d61",
   "metadata": {},
   "outputs": [
    {
     "name": "stdout",
     "output_type": "stream",
     "text": [
      "[1.0000e+00 2.0000e+00 6.0000e+00 2.4000e+01 1.2000e+02 7.2000e+02\n",
      " 5.0400e+03 4.0320e+04 3.6288e+05 3.6288e+06]\n"
     ]
    }
   ],
   "source": [
    "import scipy.special\n",
    "\n",
    "product_of_a = scipy.special.factorial(a)\n",
    "print(product_of_a)"
   ]
  },
  {
   "cell_type": "markdown",
   "id": "fee45692",
   "metadata": {},
   "source": [
    "### Exercise 6 - Make a variable named squares_of_a. It should hold each number in a squared like [1, 4, 9, 16, 25...]"
   ]
  },
  {
   "cell_type": "code",
   "execution_count": 34,
   "id": "bad02b6e",
   "metadata": {},
   "outputs": [
    {
     "name": "stdout",
     "output_type": "stream",
     "text": [
      "[  1   4   9  16  25  36  49  64  81 100]\n"
     ]
    }
   ],
   "source": [
    "squares_of_a = a**2\n",
    "print(squares_of_a)"
   ]
  },
  {
   "cell_type": "markdown",
   "id": "e8ccbc77",
   "metadata": {},
   "source": [
    "### Exercise 7 - Make a variable named odds_in_a. It should hold only the odd numbers"
   ]
  },
  {
   "cell_type": "code",
   "execution_count": 38,
   "id": "c04f3c41",
   "metadata": {},
   "outputs": [
    {
     "name": "stdout",
     "output_type": "stream",
     "text": [
      "[1 3 5 7 9]\n"
     ]
    }
   ],
   "source": [
    "odds_in_a = a[a % 2 != 0]\n",
    "print(odds_in_a)"
   ]
  },
  {
   "cell_type": "markdown",
   "id": "6fe03d8c",
   "metadata": {},
   "source": [
    "### Exercise 8 - Make a variable named evens_in_a. It should hold only the evens"
   ]
  },
  {
   "cell_type": "code",
   "execution_count": 39,
   "id": "7a503520",
   "metadata": {},
   "outputs": [
    {
     "name": "stdout",
     "output_type": "stream",
     "text": [
      "[ 2  4  6  8 10]\n"
     ]
    }
   ],
   "source": [
    "evens_in_a = a[a % 2 == 0]\n",
    "print(evens_in_a)"
   ]
  },
  {
   "cell_type": "markdown",
   "id": "96e97905",
   "metadata": {},
   "source": [
    "### What about life in two dimensions? A list of lists is matrix, a table, a spreadsheet, a chessboard...\n",
    "### Setup 2: Consider what it would take to find the sum, min, max, average, sum, product, and list of squares for this list of two lists.\n",
    "### b = \n",
    "    [\n",
    "    [3, 4, 5],\n",
    "    [6, 7, 8]"
   ]
  },
  {
   "cell_type": "code",
   "execution_count": null,
   "id": "d6af6634",
   "metadata": {},
   "outputs": [],
   "source": []
  }
 ],
 "metadata": {
  "kernelspec": {
   "display_name": "Python 3",
   "language": "python",
   "name": "python3"
  },
  "language_info": {
   "codemirror_mode": {
    "name": "ipython",
    "version": 3
   },
   "file_extension": ".py",
   "mimetype": "text/x-python",
   "name": "python",
   "nbconvert_exporter": "python",
   "pygments_lexer": "ipython3",
   "version": "3.8.8"
  }
 },
 "nbformat": 4,
 "nbformat_minor": 5
}
