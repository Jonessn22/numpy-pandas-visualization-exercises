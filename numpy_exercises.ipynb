{
 "cells": [
  {
   "cell_type": "markdown",
   "id": "68d86823",
   "metadata": {},
   "source": [
    "# numpy_exercises\n",
    "- convert to .py when finished"
   ]
  },
  {
   "cell_type": "markdown",
   "id": "52723233",
   "metadata": {},
   "source": [
    "### a = np.array([4, 10, 12, 23, -2, -1, 0, 0, 0, -6, 3, -7])"
   ]
  },
  {
   "cell_type": "markdown",
   "id": "b4f84e64",
   "metadata": {},
   "source": [
    "### 1. How many negative numbers are there?"
   ]
  },
  {
   "cell_type": "code",
   "execution_count": 1,
   "id": "fbb437f3",
   "metadata": {},
   "outputs": [
    {
     "name": "stdout",
     "output_type": "stream",
     "text": [
      "neg_a = [-2 -1 -6 -7]\n",
      "\n",
      "There are 4 negative numbers in the array.\n"
     ]
    }
   ],
   "source": [
    "import numpy as np\n",
    "\n",
    "a = np.array([4, 10, 12, 23, -2, -1, 0, 0, 0, -6, 3, -7])\n",
    "\n",
    "#assigned the variable neg_a to given array with the negative numbers filtered to get negative numbers in array\n",
    "neg_a = a[a < 0]\n",
    "print(f'neg_a = {neg_a}')\n",
    "print()\n",
    "\n",
    "#used the len() function to find how many negative numbers are in the array\n",
    "print(f'There are {len(neg_a)} negative numbers in the array.')"
   ]
  },
  {
   "cell_type": "markdown",
   "id": "e3ea23c6",
   "metadata": {},
   "source": [
    "### 2. How many positive numbers are there?"
   ]
  },
  {
   "cell_type": "code",
   "execution_count": 2,
   "id": "76be2e48",
   "metadata": {
    "scrolled": true
   },
   "outputs": [
    {
     "name": "stdout",
     "output_type": "stream",
     "text": [
      "pos_a = [ 4 10 12 23  3]\n",
      "\n",
      "There are 5 positive numbers in the array.\n"
     ]
    }
   ],
   "source": [
    "#assigned the variable pos_a to given array with the positive numbers filtered to get positive numbers in array\n",
    "pos_a = a[a > 0]\n",
    "print(f'pos_a = {pos_a}')\n",
    "print()\n",
    "\n",
    "#used the len() function to find how many positive numbers are in the array\n",
    "print(f'There are {len(pos_a)} positive numbers in the array.')"
   ]
  },
  {
   "cell_type": "markdown",
   "id": "f39eb9d5",
   "metadata": {},
   "source": [
    "### 3. How many even positive numbers are there?"
   ]
  },
  {
   "cell_type": "code",
   "execution_count": 3,
   "id": "f038552d",
   "metadata": {},
   "outputs": [
    {
     "name": "stdout",
     "output_type": "stream",
     "text": [
      "even_pos_a = [ 4 10 12]\n",
      "\n",
      "There are [ 4 10 12] numbers that are even AND positive in the array.\n"
     ]
    }
   ],
   "source": [
    "#assigned even_pos_a to given array, filtering the positive and even numbers using a boolean filter\n",
    "even_pos_a = a[(a > 0) & (a % 2 == 0)]\n",
    "print(f'even_pos_a = {even_pos_a}')\n",
    "print()\n",
    "\n",
    "#used the len() function to find how many even AND positive numbers are in the array\n",
    "print(f'There are {even_pos_a} numbers that are even AND positive in the array.')"
   ]
  },
  {
   "cell_type": "markdown",
   "id": "65327606",
   "metadata": {},
   "source": [
    "### 4. If you were to add 3 to each data point, how many positive numbers would there be?\n",
    "- why do you get 6 on the end? 0 + 3 != 6"
   ]
  },
  {
   "cell_type": "code",
   "execution_count": 4,
   "id": "7b07b1a8",
   "metadata": {
    "scrolled": true
   },
   "outputs": [
    {
     "name": "stdout",
     "output_type": "stream",
     "text": [
      " These are all of the positive values you get when you add 3 to a:[ 4 10 12 23 -2 -1  0  0  0 -6  3 -7]\n",
      " ---------------------------------------------------------> add 3:[ 7 13 15 26  1  2  3  3  3  6]\n"
     ]
    }
   ],
   "source": [
    "#assigned add_3 to the array that adds 3 to each number in a\n",
    "add_3 = a + 3\n",
    "print(f' These are all of the positive values you get when you add 3 to a:{a}')\n",
    "print(f' ---------------------------------------------------------> add 3:{add_3[add_3 > 0]}')"
   ]
  },
  {
   "cell_type": "markdown",
   "id": "c96aa4c1",
   "metadata": {},
   "source": [
    "### 5. If you squared each number, what would the new mean and standard deviation be?"
   ]
  },
  {
   "cell_type": "code",
   "execution_count": 5,
   "id": "75ecf11a",
   "metadata": {},
   "outputs": [
    {
     "name": "stdout",
     "output_type": "stream",
     "text": [
      "a^2:[ 16 100 144 529   4   1   0   0   0  36   9  49]\n",
      "\n",
      "The mean for a^2 = 74.0\n",
      "\n",
      "The std dev for a^2 = 144.0243035046516\n"
     ]
    }
   ],
   "source": [
    "#to get the value of a^2\n",
    "a_squ = a**2\n",
    "print(f'a^2:{a_squ}')\n",
    "print()\n",
    "\n",
    "print(f'The mean for a^2 = {a_squ.mean()}')\n",
    "print()\n",
    "print(f'The std dev for a^2 = {a_squ.std()}')"
   ]
  },
  {
   "cell_type": "markdown",
   "id": "15c3f18c",
   "metadata": {},
   "source": [
    "### 6. A common statistical operation on a dataset is centering. This means to adjust the data such that the mean of the data is 0. This is done by subtracting the mean from each data point. Center the data set. See this link for more on centering."
   ]
  },
  {
   "cell_type": "code",
   "execution_count": 6,
   "id": "9dbfc521",
   "metadata": {},
   "outputs": [
    {
     "name": "stdout",
     "output_type": "stream",
     "text": [
      "The mean of array a = 3.0\n",
      "\n",
      "Centering array a around 0 will give us the new array a_center:\n",
      "[  1.   7.   9.  20.  -5.  -4.  -3.  -3.  -3.  -9.   0. -10.]\n"
     ]
    }
   ],
   "source": [
    "#used the .mean() method to find the mean of each object in array a\n",
    "print(f'The mean of array a = {a.mean()}')\n",
    "print()\n",
    "\n",
    "#substracted a.mean() from each object in array a to center the array around 0\n",
    "a_center = a - a.mean()\n",
    "print(f'Centering array a around 0 will give us the new array a_center:') \n",
    "print(f'{a_center}')"
   ]
  },
  {
   "cell_type": "markdown",
   "id": "66a668a7",
   "metadata": {},
   "source": [
    "### 7. Calculate the z-score for each data point. Recall that the z-score is given by:\n",
    "# Z = (x − μ) / σ"
   ]
  },
  {
   "cell_type": "code",
   "execution_count": 7,
   "id": "c2bd7508",
   "metadata": {},
   "outputs": [
    {
     "ename": "NameError",
     "evalue": "name 'a_zscore' is not defined",
     "output_type": "error",
     "traceback": [
      "\u001b[0;31m---------------------------------------------------------------------------\u001b[0m",
      "\u001b[0;31mNameError\u001b[0m                                 Traceback (most recent call last)",
      "\u001b[0;32m<ipython-input-7-2489ee11a1b1>\u001b[0m in \u001b[0;36m<module>\u001b[0;34m\u001b[0m\n\u001b[1;32m      2\u001b[0m \u001b[0ma_zscores\u001b[0m \u001b[0;34m=\u001b[0m \u001b[0ma_center\u001b[0m \u001b[0;34m/\u001b[0m \u001b[0ma\u001b[0m\u001b[0;34m.\u001b[0m\u001b[0mstd\u001b[0m\u001b[0;34m(\u001b[0m\u001b[0;34m)\u001b[0m\u001b[0;34m\u001b[0m\u001b[0;34m\u001b[0m\u001b[0m\n\u001b[1;32m      3\u001b[0m \u001b[0;34m\u001b[0m\u001b[0m\n\u001b[0;32m----> 4\u001b[0;31m \u001b[0mprint\u001b[0m\u001b[0;34m(\u001b[0m\u001b[0;34mf'The z-score for each data point in a is:{a_zscore}'\u001b[0m\u001b[0;34m)\u001b[0m\u001b[0;34m\u001b[0m\u001b[0;34m\u001b[0m\u001b[0m\n\u001b[0m",
      "\u001b[0;31mNameError\u001b[0m: name 'a_zscore' is not defined"
     ]
    }
   ],
   "source": [
    "#divided a_center (already subtracted mean of a from a value) by std dev of a to get the z score\n",
    "a_zscores = a_center / a.std()\n",
    "\n",
    "print(f'The z-score for each data point in a is:{a_zscore}')"
   ]
  },
  {
   "cell_type": "markdown",
   "id": "f8828c0d",
   "metadata": {},
   "source": [
    "### 8. Copy the setup and exercise directions from More Numpy Practice into your numpy_exercises.py and add your solutions.\n",
    "(see link in exercises)"
   ]
  },
  {
   "cell_type": "code",
   "execution_count": null,
   "id": "4e28b33a",
   "metadata": {},
   "outputs": [],
   "source": [
    "a = np.array([1, 2, 3, 4, 5, 6, 7, 8, 9, 10])"
   ]
  },
  {
   "cell_type": "markdown",
   "id": "e038aaa1",
   "metadata": {},
   "source": [
    "# Setup 1"
   ]
  },
  {
   "cell_type": "markdown",
   "id": "13c265d7",
   "metadata": {},
   "source": [
    "### Exercise 1 - Make a variable called sum_of_a to hold the sum of all the numbers in above list"
   ]
  },
  {
   "cell_type": "code",
   "execution_count": null,
   "id": "a7f58159",
   "metadata": {},
   "outputs": [],
   "source": [
    "sum_of_a = sum(a)\n",
    "print(sum_of_a)"
   ]
  },
  {
   "cell_type": "markdown",
   "id": "759a831b",
   "metadata": {},
   "source": [
    "### Exercise 2 - Make a variable named min_of_a to hold the minimum of all the numbers in the above list"
   ]
  },
  {
   "cell_type": "code",
   "execution_count": null,
   "id": "ede45d39",
   "metadata": {},
   "outputs": [],
   "source": [
    "min_of_a = min(a)\n",
    "print(min_of_a)"
   ]
  },
  {
   "cell_type": "markdown",
   "id": "5b162f24",
   "metadata": {},
   "source": [
    "### Exercise 3 - Make a variable named max_of_a to hold the max number of all the numbers in the above list"
   ]
  },
  {
   "cell_type": "code",
   "execution_count": null,
   "id": "c5d4a451",
   "metadata": {},
   "outputs": [],
   "source": [
    "max_of_a = max(a)\n",
    "print(max(a))"
   ]
  },
  {
   "cell_type": "markdown",
   "id": "b51466ae",
   "metadata": {},
   "source": [
    "### Exercise 4 - Make a variable named mean_of_a to hold the average of all the numbers in the above list"
   ]
  },
  {
   "cell_type": "code",
   "execution_count": null,
   "id": "d07f716c",
   "metadata": {},
   "outputs": [],
   "source": [
    "mean_of_a = a.mean()\n",
    "print(mean_of_a)"
   ]
  },
  {
   "cell_type": "markdown",
   "id": "2b3ebad7",
   "metadata": {},
   "source": [
    "### Exercise 5 - Make a variable named product_of_a to hold the product of multiplying all the numbers in the above list together"
   ]
  },
  {
   "cell_type": "code",
   "execution_count": null,
   "id": "a3a04f6a",
   "metadata": {},
   "outputs": [],
   "source": [
    "import scipy.special\n",
    "\n",
    "product_of_a = scipy.special.factorial(a)\n",
    "print(product_of_a)"
   ]
  },
  {
   "cell_type": "markdown",
   "id": "85d27da5",
   "metadata": {},
   "source": [
    "### Exercise 6 - Make a variable named squares_of_a. It should hold each number in a squared like [1, 4, 9, 16, 25...]"
   ]
  },
  {
   "cell_type": "code",
   "execution_count": null,
   "id": "fe9d4f5b",
   "metadata": {},
   "outputs": [],
   "source": [
    "squares_of_a = a**2\n",
    "print(squares_of_a)"
   ]
  },
  {
   "cell_type": "markdown",
   "id": "ca8269d2",
   "metadata": {},
   "source": [
    "### Exercise 7 - Make a variable named odds_in_a. It should hold only the odd numbers"
   ]
  },
  {
   "cell_type": "code",
   "execution_count": null,
   "id": "ca8cfa0e",
   "metadata": {},
   "outputs": [],
   "source": [
    "odds_in_a = a[a % 2 != 0]\n",
    "print(odds_in_a)"
   ]
  },
  {
   "cell_type": "markdown",
   "id": "94f3fc88",
   "metadata": {},
   "source": [
    "### Exercise 8 - Make a variable named evens_in_a. It should hold only the evens"
   ]
  },
  {
   "cell_type": "code",
   "execution_count": null,
   "id": "7c4f50d4",
   "metadata": {},
   "outputs": [],
   "source": [
    "evens_in_a = a[a % 2 == 0]\n",
    "print(evens_in_a)"
   ]
  },
  {
   "cell_type": "markdown",
   "id": "dc9f9eaa",
   "metadata": {},
   "source": [
    "### What about life in two dimensions? A list of lists is matrix, a table, a spreadsheet, a chessboard...\n",
    "### Setup 2: Consider what it would take to find the sum, min, max, average, sum, product, and list of squares for this list of two lists.\n",
    "### b = \n",
    "    [\n",
    "    [3, 4, 5],\n",
    "    [6, 7, 8]"
   ]
  },
  {
   "cell_type": "markdown",
   "id": "fee70489",
   "metadata": {},
   "source": [
    "# Setup 2"
   ]
  },
  {
   "cell_type": "code",
   "execution_count": 9,
   "id": "ea198538",
   "metadata": {},
   "outputs": [],
   "source": [
    "## What about life in two dimensions? A list of lists is matrix, a table, a spreadsheet, a chessboard...\n",
    "## Setup 2: Consider what it would take to find the sum, min, max, average, sum, product, and list of squares for this list of two lists.\n",
    "b = [\n",
    "    [3, 4, 5],\n",
    "    [6, 7, 8]\n",
    "]"
   ]
  },
  {
   "cell_type": "code",
   "execution_count": 15,
   "id": "45266ef1",
   "metadata": {},
   "outputs": [
    {
     "data": {
      "text/plain": [
       "['Sum: 33, Min: 3, Max: 8, Avg: 5.5, Product: 20160, Square: [[ 9 16 25]\\n [36 49 64]]']"
      ]
     },
     "execution_count": 15,
     "metadata": {},
     "output_type": "execute_result"
    }
   ],
   "source": [
    "# Exercise 1 - refactor the following to use numpy. Use sum_of_b as the variable. **Hint, you'll first need to make sure that the \"b\" variable is a numpy array**\n",
    "sum_of_b = 0\n",
    "for row in b:\n",
    "    sum_of_b += sum(row)\n",
    "    \n",
    "b = np.array(b)\n",
    "[f'Sum: {b.sum()}, Min: {b.min()}, Max: {b.max()}, Avg: {b.mean()}, Product: {b.prod()}, Square: {b**2}']"
   ]
  },
  {
   "cell_type": "code",
   "execution_count": 16,
   "id": "62601f38",
   "metadata": {},
   "outputs": [
    {
     "data": {
      "text/plain": [
       "array([[3, 4, 5],\n",
       "       [6, 7, 8]])"
      ]
     },
     "execution_count": 16,
     "metadata": {},
     "output_type": "execute_result"
    }
   ],
   "source": [
    "b"
   ]
  },
  {
   "cell_type": "code",
   "execution_count": 18,
   "id": "ea1d1a18",
   "metadata": {},
   "outputs": [
    {
     "data": {
      "text/plain": [
       "array([3, 5, 7])"
      ]
     },
     "execution_count": 18,
     "metadata": {},
     "output_type": "execute_result"
    }
   ],
   "source": [
    "# Exercise 7 - refactor using numpy to determine the odds_in_b\n",
    "odds_in_b = []\n",
    "for row in b:\n",
    "    for number in row:\n",
    "        if(number % 2 != 0):\n",
    "            odds_in_b.append(number)\n",
    "            \n",
    "#numpy way\n",
    "\n",
    "b[b % 2 != 0]"
   ]
  },
  {
   "cell_type": "code",
   "execution_count": 20,
   "id": "8805c317",
   "metadata": {},
   "outputs": [
    {
     "data": {
      "text/plain": [
       "array([4, 6, 8])"
      ]
     },
     "execution_count": 20,
     "metadata": {},
     "output_type": "execute_result"
    }
   ],
   "source": [
    "# Exercise 8 - refactor the following to use numpy to filter only the even numbers\n",
    "evens_in_b = []\n",
    "for row in b:\n",
    "    for number in row:\n",
    "        if(number % 2 == 0):\n",
    "            evens_in_b.append(number)\n",
    "            \n",
    "#numpy way\n",
    "\n",
    "b[b % 2 == 0]"
   ]
  },
  {
   "cell_type": "code",
   "execution_count": 23,
   "id": "0fb4d2a7",
   "metadata": {},
   "outputs": [
    {
     "name": "stdout",
     "output_type": "stream",
     "text": [
      "(2, 3)\n"
     ]
    }
   ],
   "source": [
    "# Exercise 9 - print out the shape of the array b.\n",
    "\n",
    "print(b.shape)"
   ]
  },
  {
   "cell_type": "code",
   "execution_count": 25,
   "id": "9219d853",
   "metadata": {},
   "outputs": [
    {
     "data": {
      "text/plain": [
       "array([[3, 6],\n",
       "       [4, 7],\n",
       "       [5, 8]])"
      ]
     },
     "execution_count": 25,
     "metadata": {},
     "output_type": "execute_result"
    }
   ],
   "source": [
    "# Exercise 10 - transpose the array b.\n",
    "\n",
    "b.T"
   ]
  },
  {
   "cell_type": "code",
   "execution_count": 27,
   "id": "f41ba736",
   "metadata": {},
   "outputs": [
    {
     "data": {
      "text/plain": [
       "array([[3, 4, 5, 6, 7, 8]])"
      ]
     },
     "execution_count": 27,
     "metadata": {},
     "output_type": "execute_result"
    }
   ],
   "source": [
    "# Exercise 11 - reshape the array b to be a single list of 6 numbers. (1 x 6)\n",
    "\n",
    "b.reshape(1, 6)"
   ]
  },
  {
   "cell_type": "code",
   "execution_count": 29,
   "id": "e8cc1551",
   "metadata": {},
   "outputs": [
    {
     "data": {
      "text/plain": [
       "array([[3],\n",
       "       [4],\n",
       "       [5],\n",
       "       [6],\n",
       "       [7],\n",
       "       [8]])"
      ]
     },
     "execution_count": 29,
     "metadata": {},
     "output_type": "execute_result"
    }
   ],
   "source": [
    "# Exercise 12 - reshape the array b to be a list of 6 lists, each containing only 1 number (6 x 1)\n",
    "\n",
    "b.reshape(6, 1)"
   ]
  },
  {
   "cell_type": "markdown",
   "id": "ceebbcfc",
   "metadata": {},
   "source": [
    "# Setup 3"
   ]
  },
  {
   "cell_type": "code",
   "execution_count": 31,
   "id": "48ad081b",
   "metadata": {},
   "outputs": [
    {
     "data": {
      "text/plain": [
       "array([[1, 2, 3],\n",
       "       [4, 5, 6],\n",
       "       [7, 8, 9]])"
      ]
     },
     "execution_count": 31,
     "metadata": {},
     "output_type": "execute_result"
    }
   ],
   "source": [
    "c = [\n",
    "    [1, 2, 3],\n",
    "    [4, 5, 6],\n",
    "    [7, 8, 9]\n",
    "]\n",
    "\n",
    "# HINT, you'll first need to make sure that the \"c\" variable is a numpy array prior to using numpy array methods.\n",
    "# Exercise 1 - Find the min, max, sum, and product of c.\n",
    "\n",
    "c = np.array(c)\n",
    "c"
   ]
  },
  {
   "cell_type": "code",
   "execution_count": 58,
   "id": "31271b0e",
   "metadata": {
    "scrolled": false
   },
   "outputs": [
    {
     "name": "stdout",
     "output_type": "stream",
     "text": [
      "Min: 1, Max: 9, Sum: 45, Product: 362880\n",
      "\n",
      "Std: 2.581988897471611\n",
      "\n",
      "Variance: 6.666666666666667\n",
      "\n",
      "Shape: (3, 3)\n",
      "\n",
      "Transposed: \n",
      "[[1 4 7]\n",
      " [2 5 8]\n",
      " [3 6 9]]\n",
      "\n",
      "Dot Product: \n",
      "[[ 30  36  42]\n",
      " [ 66  81  96]\n",
      " [102 126 150]]\n",
      "\n",
      "c times c, transposed-sum: 261\n",
      "\n",
      "c times c, transposed-product: 131681894400\n",
      "\n"
     ]
    }
   ],
   "source": [
    "# Exercise 1 - Find the min, max, sum, and product of c.\n",
    "\n",
    "print(f'Min: {c.min()}, Max: {c.max()}, Sum: {c.sum()}, Product: {c.prod()}')\n",
    "print()\n",
    "\n",
    "# Exercise 2 - Determine the standard deviation of c.\n",
    "print(f'Std: {c.std()}')\n",
    "print()\n",
    "\n",
    "# Exercise 3 - Determine the variance of c.\n",
    "print(f'Variance: {c.var()}')\n",
    "print()\n",
    "\n",
    "# Exercise 4 - Print out the shape of the array c\n",
    "print(f'Shape: {c.shape}')\n",
    "print()\n",
    "\n",
    "# Exercise 5 - Transpose c and print out transposed result.\n",
    "print(f'Transposed: \\n{c.T}')\n",
    "print()\n",
    "\n",
    "# Exercise 6 - Get the dot product of the array c with c. \n",
    "print(f'Dot Product: \\n{np.dot(c, c)}')\n",
    "print()\n",
    "\n",
    "# Exercise 7 - Write the code necessary to sum up the result of c times c transposed. Answer should be 261\n",
    "print(f'c times c, transposed-sum: {(c * c.T).sum()}')\n",
    "print()\n",
    "\n",
    "# Exercise 8 - Write the code necessary to determine the product of c times c transposed. Answer should be 131681894400.\n",
    "print(f'c times c, transposed-product: {(c * c.T).prod()}')\n",
    "print()\n"
   ]
  },
  {
   "cell_type": "markdown",
   "id": "c1ad620e",
   "metadata": {},
   "source": [
    "# Setup 4"
   ]
  },
  {
   "cell_type": "code",
   "execution_count": 60,
   "id": "1bbbe1f5",
   "metadata": {},
   "outputs": [
    {
     "data": {
      "text/plain": [
       "array([[ 90,  30,  45,   0, 120, 180],\n",
       "       [ 45, -90, -30, 270,  90,   0],\n",
       "       [ 60,  45, -45,  90, -45, 180]])"
      ]
     },
     "execution_count": 60,
     "metadata": {},
     "output_type": "execute_result"
    }
   ],
   "source": [
    "## Setup 4\n",
    "d = [\n",
    "    [90, 30, 45, 0, 120, 180],\n",
    "    [45, -90, -30, 270, 90, 0],\n",
    "    [60, 45, -45, 90, -45, 180]\n",
    "]\n",
    "\n",
    "d = np.array(d)\n",
    "d"
   ]
  },
  {
   "cell_type": "code",
   "execution_count": 70,
   "id": "5196f803",
   "metadata": {},
   "outputs": [
    {
     "data": {
      "text/plain": [
       "array([[ 0.89399666, -0.98803162,  0.85090352,  0.        ,  0.58061118,\n",
       "        -0.80115264],\n",
       "       [ 0.85090352, -0.89399666,  0.98803162, -0.17604595,  0.89399666,\n",
       "         0.        ],\n",
       "       [-0.30481062,  0.85090352, -0.85090352,  0.89399666, -0.85090352,\n",
       "        -0.80115264]])"
      ]
     },
     "execution_count": 70,
     "metadata": {},
     "output_type": "execute_result"
    }
   ],
   "source": [
    "# Exercise 1 - Find the sine of all the numbers in d\n",
    "\n",
    "np.sin(d)"
   ]
  },
  {
   "cell_type": "code",
   "execution_count": 71,
   "id": "3c8c5507",
   "metadata": {},
   "outputs": [
    {
     "data": {
      "text/plain": [
       "array([[-0.44807362,  0.15425145,  0.52532199,  1.        ,  0.81418097,\n",
       "        -0.59846007],\n",
       "       [ 0.52532199, -0.44807362,  0.15425145,  0.98438195, -0.44807362,\n",
       "         1.        ],\n",
       "       [-0.95241298,  0.52532199,  0.52532199, -0.44807362,  0.52532199,\n",
       "        -0.59846007]])"
      ]
     },
     "execution_count": 71,
     "metadata": {},
     "output_type": "execute_result"
    }
   ],
   "source": [
    "# Exercise 2 - Find the cosine of all the numbers in d\n",
    "\n",
    "np.cos(d)"
   ]
  },
  {
   "cell_type": "code",
   "execution_count": 72,
   "id": "bc9e9f5b",
   "metadata": {},
   "outputs": [
    {
     "data": {
      "text/plain": [
       "array([[-1.99520041, -6.4053312 ,  1.61977519,  0.        ,  0.71312301,\n",
       "         1.33869021],\n",
       "       [ 1.61977519,  1.99520041,  6.4053312 , -0.17883906, -1.99520041,\n",
       "         0.        ],\n",
       "       [ 0.32004039,  1.61977519, -1.61977519, -1.99520041, -1.61977519,\n",
       "         1.33869021]])"
      ]
     },
     "execution_count": 72,
     "metadata": {},
     "output_type": "execute_result"
    }
   ],
   "source": [
    "# Exercise 3 - Find the tangent of all the numbers in d\n",
    "\n",
    "np.tan(d)"
   ]
  },
  {
   "cell_type": "code",
   "execution_count": 74,
   "id": "070b2919",
   "metadata": {},
   "outputs": [
    {
     "data": {
      "text/plain": [
       "array([-90, -30, -45, -45])"
      ]
     },
     "execution_count": 74,
     "metadata": {},
     "output_type": "execute_result"
    }
   ],
   "source": [
    "# Exercise 4 - Find all the negative numbers in d\n",
    "\n",
    "d[d < 0]"
   ]
  },
  {
   "cell_type": "code",
   "execution_count": 75,
   "id": "da4fc118",
   "metadata": {},
   "outputs": [
    {
     "data": {
      "text/plain": [
       "array([ 90,  30,  45, 120, 180,  45, 270,  90,  60,  45,  90, 180])"
      ]
     },
     "execution_count": 75,
     "metadata": {},
     "output_type": "execute_result"
    }
   ],
   "source": [
    "# Exercise 5 - Find all the positive numbers in d\n",
    "\n",
    "d[d > 0]"
   ]
  },
  {
   "cell_type": "code",
   "execution_count": 82,
   "id": "6a7d6722",
   "metadata": {},
   "outputs": [
    {
     "data": {
      "text/plain": [
       "array([-90, -45, -30,   0,  30,  45,  60,  90, 120, 180, 270])"
      ]
     },
     "execution_count": 82,
     "metadata": {},
     "output_type": "execute_result"
    }
   ],
   "source": [
    "# Exercise 6 - Return an array of only the unique numbers in d.\n",
    "\n",
    "np.unique(d)"
   ]
  },
  {
   "cell_type": "code",
   "execution_count": 85,
   "id": "82c25cee",
   "metadata": {},
   "outputs": [
    {
     "data": {
      "text/plain": [
       "11"
      ]
     },
     "execution_count": 85,
     "metadata": {},
     "output_type": "execute_result"
    }
   ],
   "source": [
    "# Exercise 7 - Determine how many unique numbers there are in d.\n",
    "\n",
    "len(np.unique(d))"
   ]
  },
  {
   "cell_type": "code",
   "execution_count": 86,
   "id": "b6c31945",
   "metadata": {},
   "outputs": [
    {
     "data": {
      "text/plain": [
       "(3, 6)"
      ]
     },
     "execution_count": 86,
     "metadata": {},
     "output_type": "execute_result"
    }
   ],
   "source": [
    "# Exercise 8 - Print out the shape of d.\n",
    "\n",
    "d.shape"
   ]
  },
  {
   "cell_type": "code",
   "execution_count": 87,
   "id": "b7acd310",
   "metadata": {},
   "outputs": [
    {
     "data": {
      "text/plain": [
       "(6, 3)"
      ]
     },
     "execution_count": 87,
     "metadata": {},
     "output_type": "execute_result"
    }
   ],
   "source": [
    "# Exercise 9 - Transpose and then print out the shape of d.\n",
    "\n",
    "d.T.shape"
   ]
  },
  {
   "cell_type": "code",
   "execution_count": 88,
   "id": "3f2a6332",
   "metadata": {},
   "outputs": [
    {
     "data": {
      "text/plain": [
       "array([[ 90,  30],\n",
       "       [ 45,   0],\n",
       "       [120, 180],\n",
       "       [ 45, -90],\n",
       "       [-30, 270],\n",
       "       [ 90,   0],\n",
       "       [ 60,  45],\n",
       "       [-45,  90],\n",
       "       [-45, 180]])"
      ]
     },
     "execution_count": 88,
     "metadata": {},
     "output_type": "execute_result"
    }
   ],
   "source": [
    "# Exercise 10 - Reshape d into an array of 9 x 2\n",
    "\n",
    "d.reshape(9, 2)"
   ]
  },
  {
   "cell_type": "code",
   "execution_count": null,
   "id": "5926df2b",
   "metadata": {},
   "outputs": [],
   "source": []
  }
 ],
 "metadata": {
  "kernelspec": {
   "display_name": "Python 3",
   "language": "python",
   "name": "python3"
  },
  "language_info": {
   "codemirror_mode": {
    "name": "ipython",
    "version": 3
   },
   "file_extension": ".py",
   "mimetype": "text/x-python",
   "name": "python",
   "nbconvert_exporter": "python",
   "pygments_lexer": "ipython3",
   "version": "3.8.8"
  }
 },
 "nbformat": 4,
 "nbformat_minor": 5
}
